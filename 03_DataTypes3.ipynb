{
  "nbformat": 4,
  "nbformat_minor": 0,
  "metadata": {
    "colab": {
      "provenance": [],
      "include_colab_link": true
    },
    "kernelspec": {
      "name": "python3",
      "display_name": "Python 3"
    }
  },
  "cells": [
    {
      "cell_type": "markdown",
      "metadata": {
        "id": "view-in-github",
        "colab_type": "text"
      },
      "source": [
        "<a href=\"https://colab.research.google.com/github/Ash93Jura/data-and-python/blob/main/03_DataTypes3.ipynb\" target=\"_parent\"><img src=\"https://colab.research.google.com/assets/colab-badge.svg\" alt=\"Open In Colab\"/></a>"
      ]
    },
    {
      "cell_type": "markdown",
      "metadata": {
        "id": "GdT0fwTCa4gI"
      },
      "source": [
        "# Working with Strings"
      ]
    },
    {
      "cell_type": "markdown",
      "metadata": {
        "id": "ozWLM6Pfa7d_"
      },
      "source": [
        "---\n",
        "### Exercise 1 input and strings\n",
        "**Recap**: to get input from the user and store it in a variable, use the instruction  \n",
        "\n",
        "*variableName = input(\"message asking user for required information\")*  \n",
        "\n",
        "*Remember: Unless you state otherwise, all input is String data*  \n",
        "\n",
        "Write a function called **show_initials()** which will:\n",
        "\n",
        "*  ask the user to input a **first_name**  \n",
        "*  ask the user to input a **middle_name**  \n",
        "*  ask the user to input a **surname**  \n",
        "*  print the name in the format: `surname`, `first_name` `middle_name`  \n",
        "\n",
        "Test Inputs:  \n",
        "Peter  \n",
        "Barry  \n",
        "Burrows  \n",
        "\n",
        "Expected output:  \n",
        "Burrows, Peter Barry\n"
      ]
    },
    {
      "cell_type": "code",
      "metadata": {
        "id": "lMJckNo-ab3z",
        "outputId": "8208225c-0210-4d71-820e-1513a7fc90e7",
        "colab": {
          "base_uri": "https://localhost:8080/"
        }
      },
      "source": [
        "def  show_initials():\n",
        "\n",
        "  first_name = input(\"please insert first name\")\n",
        "  middle_name = input(\"please insert middle name\")\n",
        "  surname = input(\"please insert surname\")\n",
        "\n",
        "  print(surname, first_name, middle_name)\n",
        "  # how do I get it to feature the comma after surname in the answer? I tried using quote marks around a comma but it came up as a syntax error\n",
        "\n",
        "show_initials()"
      ],
      "execution_count": 4,
      "outputs": [
        {
          "output_type": "stream",
          "name": "stdout",
          "text": [
            "please insert first namePeter\n",
            "please insert middle nameBarry\n",
            "please insert surnameBurrows\n",
            "Burrows Peter Barry\n"
          ]
        }
      ]
    },
    {
      "cell_type": "markdown",
      "metadata": {
        "id": "1Pvs8lp3bfYQ"
      },
      "source": [
        "# Substrings\n",
        "\n",
        "---\n",
        "\n",
        "A String is a set of characters. Each String has a length and each character in the string has a position or index. Indexing starts at 0 so the first character of a String is at position 0. As Strings have varying lengths, the last character of the String is at position -1. To find any character in the String, count from 0 or, if you want to count backwards from the end, count back from -1.  \n",
        "\n",
        "You can get a particular character, or a set of consecutive characters (substring) from a String using [] and the positions of the characters you want.  \n",
        "\n",
        "Example:  \n",
        "To get the first letter of a String (in this case the String is called **name**)\n",
        "**first_letter** = `name`[0]  \n",
        "**second_letter** = `name`[1]  \n",
        "**sixth_letter** = `name`[5]  \n",
        "\n",
        "To get the last letter of name:  \n",
        "**last_letter** = `name`[-1]  \n",
        "**second_last_letter** = `name`[-2]  \n",
        "**third_last_letter** = `name`[-3]  \n",
        "\n",
        "Have a go"
      ]
    },
    {
      "cell_type": "code",
      "metadata": {
        "id": "1EMg6ff7bw7o",
        "outputId": "ef4f7751-1b56-457f-8b39-8b1248fa5d09",
        "colab": {
          "base_uri": "https://localhost:8080/"
        }
      },
      "source": [
        "def show_letters():\n",
        "   name = \"Robert\"\n",
        "   # add your code below here to get a particular letter and print it.\n",
        "   first_letter = name[0]\n",
        "   second_letter = name[1]\n",
        "   third_letter = name[2]\n",
        "   fourth_letter = name[-3]\n",
        "   fifth_letter = name[-2]\n",
        "   sixth_letter = name[-1]\n",
        "\n",
        "   print(first_letter)\n",
        "   print(sixth_letter)\n",
        "   print(third_letter)\n",
        "   print(fifth_letter)\n",
        "\n",
        "show_letters()"
      ],
      "execution_count": 5,
      "outputs": [
        {
          "output_type": "stream",
          "name": "stdout",
          "text": [
            "R\n",
            "t\n",
            "b\n",
            "r\n"
          ]
        }
      ]
    },
    {
      "cell_type": "markdown",
      "metadata": {
        "id": "FfkpprKbb0Eu"
      },
      "source": [
        "To get a set of letters from a String, use the slice operator.  \n",
        "\n",
        "*substring = stringname[ index of first letter to be included_ : index + 1 of last letter ]*\n",
        "\n",
        "Example:  \n",
        "\n",
        "**first_three_letters** = `name`[0:3]  \n",
        "**second_to_fifth_letters** = `name`[1:5]  \n",
        "**last_three_letters** = `name`[-3:]  \n",
        "\n",
        "*Note: we can't add 1 to -1 as the result would be 0 and confused with the first letter, so we omit the second number to indicate that we want all characters to the end of the string*"
      ]
    },
    {
      "cell_type": "code",
      "metadata": {
        "id": "FGQj_JCVcPGj",
        "outputId": "1bd828ce-3ff6-4746-c841-a72471f16c40",
        "colab": {
          "base_uri": "https://localhost:8080/"
        }
      },
      "source": [
        "def show_substrings():\n",
        "   name = \"Robert\"\n",
        "   # add your code below here to get a particular letter, or set of letters and print them.\n",
        "   first_three_letters = name[0:3]\n",
        "   second_to_fifth_letters = name[1:5]\n",
        "   last_three_letters = name[-3:]\n",
        "\n",
        "   print(first_three_letters)\n",
        "   print(second_to_fifth_letters)\n",
        "   print(last_three_letters)\n",
        "\n",
        "show_substrings()"
      ],
      "execution_count": 10,
      "outputs": [
        {
          "output_type": "stream",
          "name": "stdout",
          "text": [
            "Rob\n",
            "ober\n",
            "ert\n"
          ]
        }
      ]
    },
    {
      "cell_type": "markdown",
      "metadata": {
        "id": "Cb2OHs_jcQFv"
      },
      "source": [
        "---\n",
        "### Exercise 2 - substrings\n",
        "\n",
        "Write a function called **show_substring()** which will:\n",
        "\n",
        "Ask the user to input a **name** of at least 5 letters  \n",
        "Print the **first** and the **fourth** letters in the `name`  \n",
        "\n",
        "Test Inputs:  \n",
        "Bartholomew  \n",
        "\n",
        "Expected output:  \n",
        "First letter is B, fourth letter is t\n"
      ]
    },
    {
      "cell_type": "code",
      "metadata": {
        "id": "IfABvmw2cgfH",
        "outputId": "09dd554f-4e00-4eaf-fbf5-5c5318b395d1",
        "colab": {
          "base_uri": "https://localhost:8080/"
        }
      },
      "source": [
        "def  show_substring():\n",
        "\n",
        "     name = input(\"input name of atleast 5 letters\")\n",
        "\n",
        "     first_letter = name[0]\n",
        "     fourth_letter = name[3]\n",
        "\n",
        "     print(first_letter, fourth_letter)\n",
        "\n",
        "show_substring()"
      ],
      "execution_count": 2,
      "outputs": [
        {
          "output_type": "stream",
          "name": "stdout",
          "text": [
            "input name of atleast 5 lettersBartholomew\n",
            "B t\n"
          ]
        }
      ]
    },
    {
      "cell_type": "markdown",
      "metadata": {
        "id": "6ryO1LJMchLQ"
      },
      "source": [
        "---\n",
        "### Exercise 3  - Formatting String output  \n",
        "\n",
        "Write a function called **show_formatted()** which will:  \n",
        "\n",
        "*  ask the user to input a **house_number**\n",
        "*  ask the user to input a **road_name**, then a **town**, then a **postcode**  \n",
        "*  print the address on three lines (`house_number` with a comma and `road_name`, `town`, `postcode`)  \n",
        "\n",
        "Test Input:  \n",
        "10  \n",
        "Old Road  \n",
        "Chatham  \n",
        "ME4 1AA  \n",
        "\n",
        "Expected output:   \n",
        "10, Old Road  \n",
        "Chatham  \n",
        "ME4 1AA  "
      ]
    },
    {
      "cell_type": "code",
      "metadata": {
        "id": "qNHq7Ub4c1xP",
        "outputId": "190ea1c1-1b2c-43f8-fe7f-3abc7b4ee554",
        "colab": {
          "base_uri": "https://localhost:8080/"
        }
      },
      "source": [
        "def  show_formatted():\n",
        "\n",
        "     house_number = int(input(\"please input the house number\"))\n",
        "     road_name = input(\"please input the road name\")\n",
        "     town = input(\"please input town\")\n",
        "     postcode = input(\"please input postcode\")\n",
        "\n",
        "     print(house_number , road_name)\n",
        "     print(town)\n",
        "     print(postcode)\n",
        "      #again, how do I get the comma to print? Also, is there a way to write code to get it to print across thre 3 lines without writing them as 2 seperate print instructions?\n",
        "\n",
        "show_formatted()"
      ],
      "execution_count": 12,
      "outputs": [
        {
          "output_type": "stream",
          "name": "stdout",
          "text": [
            "please input the house number10\n",
            "please input the road nameold road\n",
            "please input townchatham\n",
            "please input postcodeME4 1AA\n",
            "10 old road\n",
            "chatham\n",
            "ME4 1AA\n"
          ]
        }
      ]
    },
    {
      "cell_type": "markdown",
      "metadata": {
        "id": "E4BkKHlyc2BA"
      },
      "source": [
        "# String functions\n",
        "\n",
        "## String length\n",
        "\n",
        "You can get the length of a String using the len() function   \n",
        "e.g. **namelength** = len(`name`)  \n"
      ]
    },
    {
      "cell_type": "markdown",
      "metadata": {
        "id": "B0-NtV3uc8UC"
      },
      "source": [
        "---\n",
        "### Exercise 4 - String length  \n",
        "\n",
        "Write a function called **show_namelength()** which will:  \n",
        "\n",
        "*  ask the user to input a **name**  \n",
        "*  assign the length of the name to a variable called **name_length**  \n",
        "*  print the `name` followed by a comma, then `name_length`, then the word “characters”.\n",
        "\n",
        "Test Input:  \n",
        "William  \n",
        "\n",
        "Expected Output:  \n",
        "William, 7 characters"
      ]
    },
    {
      "cell_type": "code",
      "metadata": {
        "id": "ldWAjdrIdOzn",
        "outputId": "59adb91b-ea59-446a-d695-058350401707",
        "colab": {
          "base_uri": "https://localhost:8080/"
        }
      },
      "source": [
        "def  show_namelength():\n",
        "\n",
        "    name = input(\"input name\")\n",
        "    name_length = len(name)\n",
        "\n",
        "    print(name , name_length, \"characters\")\n",
        "# need to figure out how to input the comma\n",
        "show_namelength()\n"
      ],
      "execution_count": 3,
      "outputs": [
        {
          "output_type": "stream",
          "name": "stdout",
          "text": [
            "input nameAisling\n",
            "Aisling 7 characters\n"
          ]
        }
      ]
    },
    {
      "cell_type": "markdown",
      "metadata": {
        "id": "2UTCEzYtdPTH"
      },
      "source": [
        "## String Case Conversion  \n",
        "\n",
        "When you start to compare and search for strings, you will need to be aware that data doesn’t always turn up in the state we would like it.  People often forget to use capital letters at the beginning of their names and will sometimes use all capitals.  It is useful, therefore, to be able to convert a String either to all capitals or all lowercase, depending on how you want to see it.  \n",
        "\n",
        "There are three functions for this, which are linked to the String (here the String variable is called **name**).  \n",
        "\n",
        "*   **upper_case_name** = `name.upper()`\n",
        "*   **lower_case_name** = `name.lower()`\n",
        "*   **capitalised_name** = `name.capitalize()`\n"
      ]
    },
    {
      "cell_type": "markdown",
      "metadata": {
        "id": "X-Fv314Hdicp"
      },
      "source": [
        "---\n",
        "### Exercise 5 - case conversion  \n",
        "\n",
        "Write a function called **convert_to_capitals()** which will:  \n",
        "\n",
        "*  ask the user to input a **name** in lowercase letters\n",
        "*  assign the capitalised String to the variable **capitalised_name**\n",
        "*  print the `name` in capitals  \n",
        "\n",
        "Test Input:  \n",
        "jaswinder  \n",
        "\n",
        "Expected output:  \n",
        "JASWINDER  \n"
      ]
    },
    {
      "cell_type": "code",
      "metadata": {
        "id": "aHDLaligd0Do",
        "outputId": "4f0d2f0d-ba33-4fc6-a93e-6d784855473b",
        "colab": {
          "base_uri": "https://localhost:8080/"
        }
      },
      "source": [
        "def  convert_to_capitals():\n",
        "\n",
        "     name = input(\"insert name\")\n",
        "     capitalised_name = name.upper()\n",
        "\n",
        "     print(capitalised_name)\n",
        "\n",
        "convert_to_capitals()\n",
        "\n",
        "#please explain to me why this isnt converting to capitals when i used the name.capitalise() code\n"
      ],
      "execution_count": 10,
      "outputs": [
        {
          "output_type": "stream",
          "name": "stdout",
          "text": [
            "insert namejaswinder\n",
            "JASWINDER\n"
          ]
        }
      ]
    },
    {
      "cell_type": "markdown",
      "metadata": {
        "id": "DZeyD6p8dusQ"
      },
      "source": [
        "---\n",
        "###Exercise 6 - case conversion  \n",
        "\n",
        "Write a function called **capitalise_names()** which will:  \n",
        "\n",
        "*  ask the user to input a **name** and a **surname**  \n",
        "*  print both `name` and `surname` in lowercase with a capital letter at the start, even if they didn't have capitals when they were typed in  \n",
        "\n",
        "Test Input:  \n",
        "benJamIN  \n",
        "\n",
        "Expected output:  \n",
        "Benjamin\n"
      ]
    },
    {
      "cell_type": "code",
      "metadata": {
        "id": "bpCdYaPdap3V",
        "outputId": "b351b347-b9a6-4809-dd30-6ce071fd39df",
        "colab": {
          "base_uri": "https://localhost:8080/"
        }
      },
      "source": [
        "def  capitalise_names():\n",
        "\n",
        "     name = input(\"insert firstname\")\n",
        "     surname = input(\"insert surname\")\n",
        "     lower_case_name = name.lower()\n",
        "     lower_case_surname = surname.lower()\n",
        "\n",
        "     print(lower_case_name)\n",
        "     print (lower_case_surname)\n",
        "\n",
        "capitalise_names()\n",
        ""
      ],
      "execution_count": 9,
      "outputs": [
        {
          "output_type": "stream",
          "name": "stdout",
          "text": [
            "insert firstnamebenJamIN\n",
            "insert surnamefrANklin\n",
            "benjamin\n",
            "franklin\n"
          ]
        }
      ]
    },
    {
      "cell_type": "markdown",
      "metadata": {
        "id": "8Q9-32tFaqLN"
      },
      "source": [
        "---\n",
        "### Exercise 7 - Substrings\n",
        "\n",
        "Write a function called **show_postcode_letters()** which will:   \n",
        "\n",
        "*  ask the user to enter a **postcode**  \n",
        "*  assign the first two letters of the postcode to a variable called **postcode_area**  \n",
        "*  convert the `postcode_area` String to capital letters and assign this to a variable called **capitalised_area**  \n",
        "*  print the `capitalised_area`  \n",
        "\n",
        "Test Input:  \n",
        "Me4 6bb  \n",
        "\n",
        "Expected output:  \n",
        "ME\n"
      ]
    },
    {
      "cell_type": "code",
      "metadata": {
        "id": "dB3M2qagbUsE",
        "outputId": "770cb520-1de1-4fba-a026-3083630577e5",
        "colab": {
          "base_uri": "https://localhost:8080/"
        }
      },
      "source": [
        "def  show_postcode_letters():\n",
        "\n",
        "     postcode = input(\"enter postcode\")\n",
        "     postcode_area = postcode[0:2]\n",
        "     capitalised_area = postcode_area.upper()\n",
        "\n",
        "     print(capitalised_area)\n",
        "\n",
        "show_postcode_letters()"
      ],
      "execution_count": 12,
      "outputs": [
        {
          "output_type": "stream",
          "name": "stdout",
          "text": [
            "enter postcodeMe4 6bb\n",
            "ME\n"
          ]
        }
      ]
    },
    {
      "cell_type": "markdown",
      "metadata": {
        "id": "2eezJB2UbU1M"
      },
      "source": [
        "---\n",
        "### Exercise 8 - Floor division and slicing\n",
        "\n",
        "Write a function called **show_half_word()** which will:\n",
        "\n",
        "*  ask the user to enter a **word**  \n",
        "*  assign the value of half the length of the `word` to a variable called **half_length**  \n",
        "*  assign the first half of the `word` to a new variable called **half_word**  \n",
        "*  print `half_word`  \n",
        "\n",
        "*Hint:  when dividing the length of the word by 2, use floor division (//) so that you get a whole number of letters).  To get the first half of the word, use word[0:halfLength]*  \n",
        "\n",
        "Test input:  \n",
        "Runtime  \n",
        "\n",
        "Expected output:  \n",
        "Run"
      ]
    },
    {
      "cell_type": "code",
      "metadata": {
        "id": "Xx3zHFgab2pt",
        "outputId": "e1704a08-b12f-4447-e255-bceec2ff4851",
        "colab": {
          "base_uri": "https://localhost:8080/",
          "height": 349
        }
      },
      "source": [
        "def  show_half_word():\n",
        "\n",
        "     word = input(\"enter word\")\n",
        "     half_length = word[0:len(word)//2]\n",
        "     half_word = word[0:half_length]\n",
        "\n",
        "     print(half_word)\n",
        "\n",
        "show_half_word()\n",
        "\n",
        "# I cant figure this one out - is the instruction to use \"[0:halfLength]\" meant to be \"[0:half_length}\"? Or have I not divided the word correctly? I dont understand how to divide the length of the word by 2 as the instruction has not been provided in the material, only a hint"
      ],
      "execution_count": 16,
      "outputs": [
        {
          "name": "stdout",
          "output_type": "stream",
          "text": [
            "enter wordRuntime\n"
          ]
        },
        {
          "output_type": "error",
          "ename": "TypeError",
          "evalue": "slice indices must be integers or None or have an __index__ method",
          "traceback": [
            "\u001b[0;31m---------------------------------------------------------------------------\u001b[0m",
            "\u001b[0;31mTypeError\u001b[0m                                 Traceback (most recent call last)",
            "\u001b[0;32m<ipython-input-16-c3bb4f3dd904>\u001b[0m in \u001b[0;36m<cell line: 9>\u001b[0;34m()\u001b[0m\n\u001b[1;32m      7\u001b[0m      \u001b[0mprint\u001b[0m\u001b[0;34m(\u001b[0m\u001b[0mhalf_word\u001b[0m\u001b[0;34m)\u001b[0m\u001b[0;34m\u001b[0m\u001b[0;34m\u001b[0m\u001b[0m\n\u001b[1;32m      8\u001b[0m \u001b[0;34m\u001b[0m\u001b[0m\n\u001b[0;32m----> 9\u001b[0;31m \u001b[0mshow_half_word\u001b[0m\u001b[0;34m(\u001b[0m\u001b[0;34m)\u001b[0m\u001b[0;34m\u001b[0m\u001b[0;34m\u001b[0m\u001b[0m\n\u001b[0m",
            "\u001b[0;32m<ipython-input-16-c3bb4f3dd904>\u001b[0m in \u001b[0;36mshow_half_word\u001b[0;34m()\u001b[0m\n\u001b[1;32m      3\u001b[0m      \u001b[0mword\u001b[0m \u001b[0;34m=\u001b[0m \u001b[0minput\u001b[0m\u001b[0;34m(\u001b[0m\u001b[0;34m\"enter word\"\u001b[0m\u001b[0;34m)\u001b[0m\u001b[0;34m\u001b[0m\u001b[0;34m\u001b[0m\u001b[0m\n\u001b[1;32m      4\u001b[0m      \u001b[0mhalf_length\u001b[0m \u001b[0;34m=\u001b[0m \u001b[0mword\u001b[0m\u001b[0;34m[\u001b[0m\u001b[0;36m0\u001b[0m\u001b[0;34m:\u001b[0m\u001b[0mlen\u001b[0m\u001b[0;34m(\u001b[0m\u001b[0mword\u001b[0m\u001b[0;34m)\u001b[0m\u001b[0;34m//\u001b[0m\u001b[0;36m2\u001b[0m\u001b[0;34m]\u001b[0m\u001b[0;34m\u001b[0m\u001b[0;34m\u001b[0m\u001b[0m\n\u001b[0;32m----> 5\u001b[0;31m      \u001b[0mhalf_word\u001b[0m \u001b[0;34m=\u001b[0m \u001b[0mword\u001b[0m\u001b[0;34m[\u001b[0m\u001b[0;36m0\u001b[0m\u001b[0;34m:\u001b[0m\u001b[0mhalf_length\u001b[0m\u001b[0;34m]\u001b[0m\u001b[0;34m\u001b[0m\u001b[0;34m\u001b[0m\u001b[0m\n\u001b[0m\u001b[1;32m      6\u001b[0m \u001b[0;34m\u001b[0m\u001b[0m\n\u001b[1;32m      7\u001b[0m      \u001b[0mprint\u001b[0m\u001b[0;34m(\u001b[0m\u001b[0mhalf_word\u001b[0m\u001b[0;34m)\u001b[0m\u001b[0;34m\u001b[0m\u001b[0;34m\u001b[0m\u001b[0m\n",
            "\u001b[0;31mTypeError\u001b[0m: slice indices must be integers or None or have an __index__ method"
          ]
        }
      ]
    },
    {
      "cell_type": "markdown",
      "metadata": {
        "id": "0MdQRAo4b20u"
      },
      "source": [
        "---\n",
        "### Exercise 9 - String repetition\n",
        "\n",
        "Write a function called **repeat_two_letters()** which will:\n",
        "\n",
        "*  ask the user to enter a **word**  \n",
        "*  assign the last two letters of the `word` to a variable called **last_two**  \n",
        "*  assign a string made of 5 copies of the `last_two` (*Hint: `last_two`* * 5 *will do it)* to a variable called **five_copies**  \n",
        "*  print `five_copies`\n",
        "\n",
        "Test Input:\n",
        "Data\n",
        "\n",
        "Expected output:\n",
        "tatatatata\n"
      ]
    },
    {
      "cell_type": "code",
      "metadata": {
        "id": "85-6jHD-cXRO",
        "outputId": "f329f93c-ba1c-422e-af52-6a76e08f8d39",
        "colab": {
          "base_uri": "https://localhost:8080/"
        }
      },
      "source": [
        "def  repeat_two_letters():\n",
        "     word = input(\"insert word\")\n",
        "     last_two = word[-2:]\n",
        "     five_copies = (last_two*5)\n",
        "\n",
        "     print(five_copies)\n",
        "\n",
        "repeat_two_letters()\n"
      ],
      "execution_count": 17,
      "outputs": [
        {
          "output_type": "stream",
          "name": "stdout",
          "text": [
            "insert wordData\n",
            "tatatatata\n"
          ]
        }
      ]
    },
    {
      "cell_type": "markdown",
      "metadata": {
        "id": "6P284VwXcXaU"
      },
      "source": [
        "---\n",
        "### Exercise 10 - converting String to lower case\n",
        "\n",
        "Write a function called **convert_to_lower_threeLetters()** which will:  \n",
        "\n",
        "*  assign the value “january” to a variable called **month**  \n",
        "*  assign the first three characters of `month` to a variable called **month_short**   \n",
        "*  capitalise `month_short` and store the result back in `month_short`\n",
        "*  assign the rest of the characters to a variable called **month_rest**  \n",
        "*  join `month_short` and `month_rest` together and store the result back into the variable `month`  \n",
        "*  print `month`  \n",
        "\n",
        "Expected output:  \n",
        "JANuary  "
      ]
    },
    {
      "cell_type": "code",
      "metadata": {
        "id": "GXqOeFwycuDD",
        "outputId": "ed25e992-11b6-4a49-e31e-e26cd95e28ad",
        "colab": {
          "base_uri": "https://localhost:8080/"
        }
      },
      "source": [
        "def  convert_to_lower_threeLetters():\n",
        "\n",
        "     month = \"january\"\n",
        "     month_short = month[0:3]\n",
        "     month_short = month_short.upper()\n",
        "     month_rest = month[3:]\n",
        "     month = (month_short+month_rest)\n",
        "\n",
        "     print(month)\n",
        "\n",
        "convert_to_lower_threeLetters()"
      ],
      "execution_count": 21,
      "outputs": [
        {
          "output_type": "stream",
          "name": "stdout",
          "text": [
            "JANuary\n"
          ]
        }
      ]
    }
  ]
}