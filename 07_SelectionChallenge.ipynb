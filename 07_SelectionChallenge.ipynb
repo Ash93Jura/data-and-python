{
  "nbformat": 4,
  "nbformat_minor": 0,
  "metadata": {
    "colab": {
      "provenance": [],
      "include_colab_link": true
    },
    "kernelspec": {
      "name": "python3",
      "display_name": "Python 3"
    }
  },
  "cells": [
    {
      "cell_type": "markdown",
      "metadata": {
        "id": "view-in-github",
        "colab_type": "text"
      },
      "source": [
        "<a href=\"https://colab.research.google.com/github/Ash93Jura/data-and-python/blob/main/07_SelectionChallenge.ipynb\" target=\"_parent\"><img src=\"https://colab.research.google.com/assets/colab-badge.svg\" alt=\"Open In Colab\"/></a>"
      ]
    },
    {
      "cell_type": "markdown",
      "metadata": {
        "id": "-QxAKPD8DZfj"
      },
      "source": [
        "# Three selection challenges\n",
        "\n",
        "---\n"
      ]
    },
    {
      "cell_type": "markdown",
      "metadata": {
        "id": "2KYUALILDcM9"
      },
      "source": [
        "### Challenge 1 - password format  \n",
        "\n",
        "Write a function called **check_password_valid()** which will check the validity of a **password** input by a user.\n",
        "\n",
        "Rules for a valid password are:  \n",
        "\n",
        "*  At least 1 letter between [a-z] and 1 letter between [A-Z].\n",
        "*  At least 1 number between [0-9].\n",
        "*  At least 1 character from [$#@].\n",
        "*  Minimum length 6 characters.\n",
        "*  Maximum length 16 characters.  \n",
        "\n",
        "Let the user know if the `password` they have typed is valid and, if not, where was the first error.\n",
        "\n",
        "*Hint:  to test if a set of characters is present in a password String, you can use re.search('[character set]', `password`)*  \n",
        "\n",
        "Example:   \n",
        "*if re.search('[a-z]',`password`):*    \n",
        "if there is at least 1 character a-z in the password, re.search will not be None.\n",
        "\n",
        "**re** is a pre-written Python function for pattern searching in Strings.  It has been imported for you in the code cell below.  "
      ]
    },
    {
      "cell_type": "code",
      "metadata": {
        "id": "8wBK9IA4BO2e",
        "outputId": "14138121-3a8c-4520-864f-9fc92f400b2d",
        "colab": {
          "base_uri": "https://localhost:8080/"
        }
      },
      "source": [
        "import re\n",
        "\n",
        "# add your check_PasswordValid() function and call below here\n",
        "def  check_password_valid():\n",
        "\n",
        "     password = input(\"please input password \")\n",
        "\n",
        "     if len(password) < 6:\n",
        "      print(\"your password must be atleast 6 characters long\")\n",
        "     elif len(password) > 16:\n",
        "      print(\"your password must be less than 16 characters long\")\n",
        "     elif re.search('[0-9]', password) is None:\n",
        "      print(\"your password must contain at least 1 number\")\n",
        "     elif re.search('[a-z]', password) is None:\n",
        "      print(\"your password must contain at least 1 lower case letter\")\n",
        "     elif re.search('[A-Z]', password) is None:\n",
        "      print(\"your password must contain at least 1 upper case letter\")\n",
        "     elif re.search('[$#@]', password) is None:\n",
        "      print(\"your password must contain atleast 1 of these characters: $, #, @\")\n",
        "     else:\n",
        "      print(\"your password is valid\")\n",
        "\n",
        "check_password_valid()"
      ],
      "execution_count": 5,
      "outputs": [
        {
          "output_type": "stream",
          "name": "stdout",
          "text": [
            "please input password Aisling1@\n",
            "your password is valid\n"
          ]
        }
      ]
    },
    {
      "cell_type": "markdown",
      "metadata": {
        "id": "f0R4GYTEFQS-"
      },
      "source": [
        "---\n",
        "### Challenge 2 - triangle shape  \n",
        "\n",
        "Write a function called **evaluate_triangle_shape()** which will check if a triangle is equilateral, isosceles or scalene, based on the three side lengths entered by a user (**x**, **y** and **z**.\n",
        "\n",
        "An equilateral triangle is a triangle in which all three sides are equal.\n",
        "A scalene triangle is a triangle that has three unequal sides.\n",
        "An isosceles triangle is a triangle with (at least) two equal sides.\n",
        "\n",
        "For example:  \n",
        "A triange with side lengths                                 \n",
        "x: 6                                                                    \n",
        "y: 8                                                                    \n",
        "z: 12                                                                   \n",
        "is a *Scalene triangle*\n",
        "\n",
        "A triangle with side lengths\n",
        "x:5  \n",
        "y:3   \n",
        "z:5  \n",
        "is an *Isosceles triangle*"
      ]
    },
    {
      "cell_type": "code",
      "metadata": {
        "id": "oBgl4ro1DVL0",
        "outputId": "8e31b0e5-f10d-4554-fe71-b878d9967fe5",
        "colab": {
          "base_uri": "https://localhost:8080/"
        }
      },
      "source": [
        "def  evaluate_triangle_shape():\n",
        "\n",
        "     x = int(input(\"please input length of side 1 of the triangle in cm: \"))\n",
        "     y = int(input(\"please input length of side 2 of the triangle in cm: \"))\n",
        "     z = int(input(\"please input length of side 3 of the triangle in cm: \"))\n",
        "\n",
        "     if x==y and x==z:\n",
        "      print(\"The triangle is an equilateral triangle\")\n",
        "     elif x!=y and x!=z and z!=y:\n",
        "      print(\"The triangle is a scalene triangle\")\n",
        "     elif x==y or y==z or x==z:\n",
        "      print(\"The triangle is an isosceles triangle\")\n",
        "\n",
        "evaluate_triangle_shape()"
      ],
      "execution_count": 7,
      "outputs": [
        {
          "output_type": "stream",
          "name": "stdout",
          "text": [
            "please input length of side 1 of the triangle in cm: 6\n",
            "please input length of side 2 of the triangle in cm: 8\n",
            "please input length of side 3 of the triangle in cm: 12\n",
            "The triangle is a scalene triangle\n"
          ]
        }
      ]
    },
    {
      "cell_type": "markdown",
      "metadata": {
        "id": "hr2EotkqG33l"
      },
      "source": [
        "---\n",
        "### Challenge 3 - which season\n",
        "\n",
        "Write a function called **determine_season()** which will ask the user to enter two integers representing a **month** and **day** and prints the season for that month and day.\n",
        "\n",
        "Note:  for this exercise the season dates are:\n",
        "*  Winter December 21 to March 20    \n",
        "*  Spring March 21 to June 20  \n",
        "*  Summer June 21 to September 20  \n",
        "*  Autumn September 21 to December 20\n",
        "\n",
        "Test input:  \n",
        "Input the month (e.g. January, February etc.): 7                     \n",
        "Input the day: 31                                                       \n",
        "\n",
        "Expected output:  \n",
        "Season is summer\n",
        "\n",
        "*Note: this will require multiple and or or operators and you should use brackets to help Python know which operations to do first*  \n",
        "\n",
        "*For an extra challenge you can check that the day is valid for the month*"
      ]
    },
    {
      "cell_type": "code",
      "metadata": {
        "id": "cvbfz8nzG4IL",
        "outputId": "71c8acf0-50fc-4c16-e53e-4f4b24d9a37a",
        "colab": {
          "base_uri": "https://localhost:8080/"
        }
      },
      "source": [
        "def  determine_season():\n",
        "\n",
        "     month = int(input(\"please input month as a number e.g. March = 3 : \"))\n",
        "     day = int(input(\"please input day: \"))\n",
        "\n",
        "     if month == 12 and day < 21:\n",
        "      print(\"Season is Autumn\")\n",
        "     elif month == 12 and day >= 21:\n",
        "      print(\"season is Winter\")\n",
        "     elif month <= 2:\n",
        "      print(\"Season is Winter\")\n",
        "     elif month == 3 and day <= 20:\n",
        "      print(\"Season is Winter\")\n",
        "     elif month == 3 and day >= 21:\n",
        "      print(\"Season is Spring\")\n",
        "     elif month <= 5:\n",
        "      print(\"Season is Spring\")\n",
        "     elif month == 6 and day <= 20:\n",
        "      print(\"Season is Spring\")\n",
        "     elif month == 6 and day >= 21:\n",
        "      print(\"Season is Summer\")\n",
        "     elif month <= 8:\n",
        "      print(\"Season is Summer\")\n",
        "     elif month == 9 and day <= 20:\n",
        "      print(\"Season is Summer\")\n",
        "     elif month == 9 and day >= 21:\n",
        "      print(\"Season is Autumn\")\n",
        "     elif month <= 11:\n",
        "      print(\"Season is Autumn\")\n",
        "\n",
        "determine_season()\n",
        "\n",
        "#I know there must be a simpler way to do this using either a datetime conversion or some 'or' operators but I couldnt figure it out. Please explain what was expected and how I would check the date range matches the month too"
      ],
      "execution_count": 10,
      "outputs": [
        {
          "output_type": "stream",
          "name": "stdout",
          "text": [
            "please input month as a number e.g. March = 3 : 5\n",
            "please input day: 30\n",
            "Season is Spring\n"
          ]
        }
      ]
    }
  ]
}