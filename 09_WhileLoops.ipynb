{
  "nbformat": 4,
  "nbformat_minor": 0,
  "metadata": {
    "colab": {
      "provenance": [],
      "include_colab_link": true
    },
    "kernelspec": {
      "name": "python3",
      "display_name": "Python 3"
    }
  },
  "cells": [
    {
      "cell_type": "markdown",
      "metadata": {
        "id": "view-in-github",
        "colab_type": "text"
      },
      "source": [
        "<a href=\"https://colab.research.google.com/github/Ash93Jura/data-and-python/blob/main/09_WhileLoops.ipynb\" target=\"_parent\"><img src=\"https://colab.research.google.com/assets/colab-badge.svg\" alt=\"Open In Colab\"/></a>"
      ]
    },
    {
      "cell_type": "markdown",
      "metadata": {
        "id": "OWGIE_ptimyf"
      },
      "source": [
        "# While loops\n",
        "\n",
        "---\n"
      ]
    },
    {
      "cell_type": "markdown",
      "metadata": {
        "id": "Kjh4DVogizl5"
      },
      "source": [
        "There are many situations when an external event (such as an input from the user or finding an invalid data value) will be the thing that will cause the loop to stop.\n",
        "\n",
        "A while loop allows us to say \"repeat these instructions while something has not yet happened, or repeat these instruction while a particular state exists\"\n",
        "\n",
        "For example, we want to ask a user to enter some positive numbers to be added to a total. They will indicate that there are no more numbers by entering -1.\n",
        "\n"
      ]
    },
    {
      "cell_type": "code",
      "metadata": {
        "id": "HieVx4BrtJlU",
        "outputId": "dd24905d-efa3-4008-f506-e4c64e8f4a48",
        "colab": {
          "base_uri": "https://localhost:8080/"
        }
      },
      "source": [
        "# initialise a total to 0\n",
        "# read the first number\n",
        "# add the number to the total and keep reading next number and adding to total until -1 entered\n",
        "\n",
        "def running_total():\n",
        "    total = 0\n",
        "    num = int(input(\"Enter a number, or type -1 to stop\"))\n",
        "    while num != -1:\n",
        "        total = total + num\n",
        "        num = int(input(\"Enter a number, or type -1 to stop\"))\n",
        "    print(total)\n",
        "\n",
        "running_total()"
      ],
      "execution_count": null,
      "outputs": [
        {
          "output_type": "stream",
          "name": "stdout",
          "text": [
            "Enter a number, or type -1 to stop6\n",
            "Enter a number, or type -1 to stop10\n",
            "Enter a number, or type -1 to stop-1\n",
            "16\n"
          ]
        }
      ]
    },
    {
      "cell_type": "markdown",
      "metadata": {
        "id": "X8pROiEYtKbA"
      },
      "source": [
        "**Another example**\n",
        "\n",
        "We want to take a number from the user and keep dividing it by 2 until the answer is 1 or less, then to print the number of times it was divided. Try it out. If you enter 8 then the answer should be 3, if you enter 6 the answer will also be 3."
      ]
    },
    {
      "cell_type": "code",
      "metadata": {
        "id": "eL9nJORbtTUb",
        "outputId": "638af02f-60e8-4b98-9697-826838d096b4",
        "colab": {
          "base_uri": "https://localhost:8080/"
        }
      },
      "source": [
        "def div_by_two():\n",
        "  num = int(input(\"Enter a number to be processed\"))\n",
        "  number_times_divided = 0\n",
        "  while num > 1:\n",
        "    number_times_divided = number_times_divided + 1\n",
        "    num = num/2\n",
        "  print(\"Your number was divided\", number_times_divided, \"times\")\n",
        "\n",
        "div_by_two()"
      ],
      "execution_count": null,
      "outputs": [
        {
          "output_type": "stream",
          "name": "stdout",
          "text": [
            "Enter a number to be processed6\n",
            "Your number was divided 3 times\n"
          ]
        }
      ]
    },
    {
      "cell_type": "markdown",
      "metadata": {
        "id": "jKqqk9LstW83"
      },
      "source": [
        "*Here are some more examples of use of while loops.*\n",
        "\n",
        "### Ensuring valid input  \n",
        "When reading from the keyboard it is important to ensure that the user only enters valid data. You can do this in a number of ways but a while loop can be used to make the user keep entering data until they enter something that is valid."
      ]
    },
    {
      "cell_type": "code",
      "metadata": {
        "id": "7_CoIBfluIUG",
        "outputId": "456ff321-ce90-4df7-8014-4e3183ca10a9",
        "colab": {
          "base_uri": "https://localhost:8080/"
        }
      },
      "source": [
        "# read a number from the user\n",
        "# check that the number is a positive integer.  If not, display error messages\n",
        "# keep reading until a positive integer is read\n",
        "\n",
        "def positive_num():\n",
        "  number = -1\n",
        "  while number < 0:\n",
        "    print(\"You must type a number above 0\")\n",
        "    number = int(input(\"Enter a positive number\"))\n",
        "  print(\"Thank you for typing the number\", number)\n",
        "\n",
        "positive_num()"
      ],
      "execution_count": null,
      "outputs": [
        {
          "output_type": "stream",
          "name": "stdout",
          "text": [
            "You must type a number above 0\n",
            "Enter a positive number-3\n",
            "You must type a number above 0\n",
            "Enter a positive number02\n",
            "Thank you for typing the number 2\n"
          ]
        }
      ]
    },
    {
      "cell_type": "markdown",
      "metadata": {
        "id": "YiO-WgJ8zzjp"
      },
      "source": [
        "### Take home points\n",
        "\n",
        "* An algorithm is the method for solving a particular problem (e.g. getting the right sort of number, selecting a message depending on input, calculating a new figure, etc)\n",
        "* A while loop will keep repeating while the given condition is TRUE\n",
        "* As soon as the condition becomes false the loop will stop executing\n",
        "* We use while loops when we don't necessarily know how many times a loop will need to repeat, but we do know under what conditions it does need to repeat."
      ]
    },
    {
      "cell_type": "markdown",
      "metadata": {
        "id": "4CS8CNrmQUbO"
      },
      "source": [
        "---\n",
        "### Exercise 1 - get a valid username\n",
        "\n",
        "Write a function called **get_username()** which will:  \n",
        "\n",
        "*  assign the value False to a boolean variable called **valid**  \n",
        "*  start a while loop that will continue to loop while `valid` is False  \n",
        "*  in the loop:  ask the user to enter a **username**,  if the `username` is \"user\" assign the value True to `valid`, otherwise print the message \"Incorrect user name\"   \n",
        "*  after the loop, display the message \"Welcome `username`, you will now be asked to enter your password  \n",
        "\n",
        "Test input:  \n",
        "username   \n",
        "user  \n",
        "\n",
        "Expected output:  \n",
        "Incorrect username  \n",
        "Welcome user you will now be asked to enter your password  "
      ]
    },
    {
      "cell_type": "code",
      "metadata": {
        "id": "nwq55T5eRv7_",
        "outputId": "7ea22be9-c18b-4028-e4bc-b4fc652045a0",
        "colab": {
          "base_uri": "https://localhost:8080/"
        }
      },
      "source": [
        "def  get_username():\n",
        "\n",
        "     valid=False\n",
        "     username = (input(\"please input username: \"))\n",
        "\n",
        "     while valid==False :\n",
        "       if username==\"user\":\n",
        "        valid=True\n",
        "        print(\"Welcome\", username , \"you will now be asked to enter your password\")\n",
        "       else:\n",
        "         print(\"incorrect user name\")\n",
        "         username = (input(\"please input username: \"))\n",
        "\n",
        "get_username()"
      ],
      "execution_count": null,
      "outputs": [
        {
          "output_type": "stream",
          "name": "stdout",
          "text": [
            "please input username: username\n",
            "incorrect user name\n",
            "please input username: user\n",
            "Welcome user you will now be asked to enter your password\n"
          ]
        }
      ]
    },
    {
      "cell_type": "markdown",
      "metadata": {
        "id": "FXN6-MtQRwb9"
      },
      "source": [
        "---\n",
        "### Exercise 2 - get a valid passcode  \n",
        "\n",
        "Write a function called **get_passcode()** which will:  \n",
        "\n",
        "*  assign the value False to a boolean variable called **valid**  \n",
        "*  start a while loop that will continue to loop while `valid` is False  \n",
        "*  in the loop:  ask the user to enter a **passcode**, if the `passcode` is \"9876\" assign the value True to `valid`, otherwise print the message \"Incorrect passcode\"  \n",
        "*  after the loop, display the message \"Passcode accepted\"    \n",
        "\n",
        "Test input:  \n",
        "1234   \n",
        "9876  \n",
        "\n",
        "Expected output:  \n",
        "Incorrect passcode  \n",
        "Passcode accepted  "
      ]
    },
    {
      "cell_type": "code",
      "metadata": {
        "id": "a0Z_ACOiSxsP",
        "outputId": "9a297612-3f7b-49ad-90a2-29c7216316ee",
        "colab": {
          "base_uri": "https://localhost:8080/"
        }
      },
      "source": [
        "def get_passcode():\n",
        "\n",
        "    valid=False\n",
        "\n",
        "    while valid==False :\n",
        "      passcode = input(\"please enter your passcode\")\n",
        "      if passcode==\"9876\":\n",
        "        valid=True\n",
        "      else:\n",
        "        print(\"incorrect passcode\")\n",
        "\n",
        "    print(\"Passcode accepted\")\n",
        "\n",
        "get_passcode()"
      ],
      "execution_count": null,
      "outputs": [
        {
          "output_type": "stream",
          "name": "stdout",
          "text": [
            "please enter your passcode1234\n",
            "incorrect passcode\n",
            "please enter your passcode9876\n",
            "Passcode accepted\n"
          ]
        }
      ]
    },
    {
      "cell_type": "markdown",
      "metadata": {
        "id": "DMeDXd7TS0ar"
      },
      "source": [
        "---\n",
        "### Exercise 3 - single digit input  \n",
        "\n",
        "Write a function called **get_digit()** which will:  \n",
        "\n",
        "*  assign the value False to a boolean variable called **valid_digit**  \n",
        "*  use a while loop to repeatedly ask the user to enter a single digit until the value they enter is less than 10     \n",
        "*  in the loop:  ask the user to enter a **single_digit**, if the `single_digit` is less than 10 assign the value True to `valid`, otherwise print the message \"Not a digit\"  \n",
        "*  after the loop, display the message \"Single digit entered\"    \n",
        "\n",
        "Test input:  \n",
        "10   \n",
        "9  \n",
        "\n",
        "Expected output:  \n",
        "Not a digit  \n",
        "Single digit entered  "
      ]
    },
    {
      "cell_type": "code",
      "metadata": {
        "id": "4oGXPcmqTtVN",
        "outputId": "a6f6f80a-47e4-4ab0-cf21-79e2775548d4",
        "colab": {
          "base_uri": "https://localhost:8080/"
        }
      },
      "source": [
        "def get_digit():\n",
        "\n",
        "    valid_digit=False\n",
        "\n",
        "    while valid_digit==False :\n",
        "      single_digit = int(input(\"please enter a single digit: \"))\n",
        "      if single_digit>=10:\n",
        "        print(\"not a digit\")\n",
        "      if single_digit<10:\n",
        "        valid_digit=True\n",
        "\n",
        "    print(\"Single digit entered\")\n",
        "\n",
        "get_digit()"
      ],
      "execution_count": null,
      "outputs": [
        {
          "output_type": "stream",
          "name": "stdout",
          "text": [
            "please enter a single digit: 10\n",
            "not a digit\n",
            "please enter a single digit: 9\n",
            "Single digit entered\n"
          ]
        }
      ]
    },
    {
      "cell_type": "markdown",
      "metadata": {
        "id": "o80s4nzfi37X"
      },
      "source": [
        "---\n",
        "### Exercise 4 - positive number input\n",
        "\n",
        "Write a function called **positive_number()** which will:\n",
        "*  ask the user to enter a **number**, the message should indicate that it must be a positive number  \n",
        "*  if `number` is not positive **(ie. less than 1)** show an error message and ask user to re-enter the `number`\n",
        "*  when the `number` is positive, print the `number`\n",
        "\n",
        "Test input:  \n",
        "-1\n",
        "0\n",
        "1\n",
        "\n",
        "Expected output:  \n",
        "It must be a positive number, try again  \n",
        "It must be a positive number, try again  \n",
        "1  "
      ]
    },
    {
      "cell_type": "code",
      "metadata": {
        "id": "BmZjI8PzwdT-",
        "outputId": "3c4863dc-2a9c-4bd6-94d5-81c5af254255",
        "colab": {
          "base_uri": "https://localhost:8080/"
        }
      },
      "source": [
        "def positive_number():\n",
        "\n",
        "    number = int(input(\"please input a positive number: \"))\n",
        "\n",
        "    while number<1 :\n",
        "      print(\"Error. Please re-enter a number\")\n",
        "      number = int(input(\"please input a positive number: \"))\n",
        "    if number<=1:\n",
        "      print(number)\n",
        "\n",
        "positive_number()"
      ],
      "execution_count": null,
      "outputs": [
        {
          "output_type": "stream",
          "name": "stdout",
          "text": [
            "please input a positive number: -1\n",
            "Error. Please re-enter a number\n",
            "please input a positive number: 0\n",
            "Error. Please re-enter a number\n",
            "please input a positive number: 1\n",
            "1\n"
          ]
        }
      ]
    },
    {
      "cell_type": "markdown",
      "metadata": {
        "id": "xPJfd9lUyULa"
      },
      "source": [
        "---\n",
        "### Exercise 5 - getting a number within limits\n",
        "\n",
        "Write a function called **test_limits()** which will:\n",
        "\n",
        "*  ask the user to enter a number between **1 and 31**\n",
        "*  if the number entered is less than 1 or more than 31, display the error message \"Number out of limits\"  \n",
        "*  continue asking the user until a valid input is given\n",
        "*  when a valid number is given, display the message \"Your number was `number`\" and end the program\n",
        "\n",
        "Test input:  \n",
        "40  \n",
        "50  \n",
        "30  \n",
        "\n",
        "Expected output:  \n",
        "Number out of limits  \n",
        "Number out of limits  \n",
        "Your number was 30  \n"
      ]
    },
    {
      "cell_type": "code",
      "metadata": {
        "id": "MVxhTY6zzq8k",
        "outputId": "bbe2a1a5-1071-4031-e29d-4be8c6b52997",
        "colab": {
          "base_uri": "https://localhost:8080/"
        }
      },
      "source": [
        "def test_limits():\n",
        "\n",
        "    number = int(input(\"please input a number between 1 and 31: \"))\n",
        "\n",
        "    while number < 1 or number > 31 :\n",
        "      print(\"Number out of limits\")\n",
        "    if number >= 1 or number <= 31 :\n",
        "      print(\"your number was \", number)\n",
        "\n",
        "test_limits()"
      ],
      "execution_count": null,
      "outputs": [
        {
          "output_type": "stream",
          "name": "stdout",
          "text": [
            "please input a number between 1 and 31: 40\n",
            "Number out of limits\n",
            "please input a number between 1 and 31: 50\n",
            "Number out of limits\n",
            "please input a number between 1 and 31: 30\n",
            "your number was  30\n"
          ]
        }
      ]
    },
    {
      "cell_type": "markdown",
      "metadata": {
        "id": "WcHiG9AlUPdr"
      },
      "source": [
        "---\n",
        "### Exercise 6 - getting a number outside range\n",
        "\n",
        "Write a function called **test_outlier()** which will:\n",
        "\n",
        "*  ask the user to enter a **number** that is NOT between 40 and 50  \n",
        "*  if the `number` entered is between 40 and 50 (including both 40 and 50, display the error message \"This is not an outlier\"\n",
        "*  continue asking the user until a valid `number` is given\n",
        "*  when a valid `number` is given, display the message \"You have entered an outlier\" and end the program  \n",
        "\n",
        "Test input:  \n",
        "34  \n",
        "\n",
        "Expected output:  \n",
        "You have entered an outlier  \n",
        "\n",
        "Test input:  \n",
        "44  \n",
        "50  \n",
        "40  \n",
        "34  \n",
        "\n",
        "Expected output:  \n",
        "This is not an outlier  \n",
        "This is not an outlier  \n",
        "This is not an outlier  \n",
        "You have entered an outlier  "
      ]
    },
    {
      "cell_type": "code",
      "metadata": {
        "id": "PqvtQXYnUQ8E",
        "outputId": "e14f0552-fa6d-4240-d758-9a34bfea25e7",
        "colab": {
          "base_uri": "https://localhost:8080/"
        }
      },
      "source": [
        "def test_outlier():\n",
        "\n",
        "    outlier=False\n",
        "\n",
        "    while outlier == False:\n",
        "      number = int(input(\"please input a number that is not between 40 and 50: \"))\n",
        "      if number >= 40 and number <= 50 :\n",
        "        print(\"This is not an outlier\")\n",
        "      if number < 40 or number > 50 :\n",
        "        outlier =True\n",
        "\n",
        "    print(\"you have entered an outlier \")\n",
        "\n",
        "test_outlier()"
      ],
      "execution_count": null,
      "outputs": [
        {
          "output_type": "stream",
          "name": "stdout",
          "text": [
            "please input a number that is not between 40 and 50: 40\n",
            "This is not an outlier\n",
            "please input a number that is not between 40 and 50: 44\n",
            "This is not an outlier\n",
            "please input a number that is not between 40 and 50: 50\n",
            "This is not an outlier\n",
            "please input a number that is not between 40 and 50: 34\n",
            "you have entered an outlier \n"
          ]
        }
      ]
    },
    {
      "cell_type": "markdown",
      "metadata": {
        "id": "53kjOj7nzri1"
      },
      "source": [
        "---\n",
        "### Exercise 7 - multiplying a number to be greater than 20,000\n",
        "\n",
        "Write a function called **increase_to_twenty_thousand()** that will:\n",
        "\n",
        "*  ask the user to input a **number**\n",
        "*  multiply given `number` by itself repeatedly, printing its value each time it changes, until the  number has become greater (>) than 20,000\n",
        "\n",
        "Test input:  \n",
        "5\n",
        "\n",
        "Expected output:  \n",
        "5   \n",
        "25  \n",
        "125  \n",
        "625  \n",
        "3125  \n",
        "15625  \n",
        "78125  \n"
      ]
    },
    {
      "cell_type": "code",
      "metadata": {
        "id": "9vzat0W21tNA",
        "outputId": "b1906a25-1e65-4524-ed94-0b99dcd70b19",
        "colab": {
          "base_uri": "https://localhost:8080/"
        }
      },
      "source": [
        "def increase_to_twenty_thousand():\n",
        "    number = int(input(\"please input a number: \"))\n",
        "    valid=False\n",
        "    total = number\n",
        "    while valid == False:\n",
        "      print(total)\n",
        "      total = total*number\n",
        "      if total > 20000 :\n",
        "        valid = True\n",
        "\n",
        "increase_to_twenty_thousand()"
      ],
      "execution_count": 1,
      "outputs": [
        {
          "output_type": "stream",
          "name": "stdout",
          "text": [
            "please input a number: 5\n",
            "5\n",
            "25\n",
            "125\n",
            "625\n",
            "3125\n",
            "15625\n"
          ]
        }
      ]
    },
    {
      "cell_type": "markdown",
      "metadata": {
        "id": "wepL2Ufj1uvT"
      },
      "source": [
        "---\n",
        "### Exercise 8 - even and odds\n",
        "\n",
        "Write a function called **get_even_number()** that:\n",
        "\n",
        "*  asks the user to input an even number (divisible by 2)\n",
        "*  if an odd number is given, display message \"That number is odd\"\n",
        "*  once valid input given (even number), display message \"Thanks, that number is even\"\n",
        "\n",
        "Test input:  \n",
        "3  \n",
        "1  \n",
        "2  \n",
        "\n",
        "Expected output:  \n",
        "That number is odd  \n",
        "That number is odd  \n",
        "Thanks, that number is even  \n",
        "\n"
      ]
    },
    {
      "cell_type": "code",
      "metadata": {
        "id": "KME9Qfcs45yJ",
        "outputId": "ee93ec98-1b9d-4612-9c29-a901d89e29f6",
        "colab": {
          "base_uri": "https://localhost:8080/"
        }
      },
      "source": [
        "def get_even_number():\n",
        "    X = int(input(\"please input an even number: \"))\n",
        "    odd = X % 2 != 0\n",
        "    odd = False\n",
        "\n",
        "    while odd == False:\n",
        "      print(\"That number is odd\")\n",
        "      X = int(input(\"please input an even number: \"))\n",
        "      if X % 2 == 0:\n",
        "        print(\"Thanks, that number is even\")\n",
        "        odd = True\n",
        "\n",
        "get_even_number()"
      ],
      "execution_count": null,
      "outputs": [
        {
          "output_type": "stream",
          "name": "stdout",
          "text": [
            "please input an even number: 3\n",
            "That number is odd\n",
            "please input an even number: 1\n",
            "That number is odd\n",
            "please input an even number: 2\n",
            "Thanks, that number is even\n"
          ]
        }
      ]
    },
    {
      "cell_type": "markdown",
      "metadata": {
        "id": "-p3LVygZwd6R"
      },
      "source": [
        "### Exercise 9 - menu choice\n",
        "\n",
        "Write a function called **show_special_numbers()** which will:\n",
        "\n",
        "*  display the following menu\n",
        "\n",
        "*What value would you like to see?*\n",
        "\n",
        "1. *Pi*\n",
        "2. *Plank’s constant*\n",
        "3. *E*\n",
        "4. *Square root of 2*\n",
        "5. *Quit the program*\n",
        "\n",
        "*  ask the user to input which value they would like to see by typing a number between 1 - 5\n",
        "*  read and process the choice while the user selects anything other than 5 (Quit the program)\n",
        "\n",
        "To process the choice:  \n",
        "* if the number is 1 - print 3.14159265359\n",
        "* if the number is 2 - print 6.62607004 × 10-34 (in Python this would be written 6.62607004E-34\n",
        "* if the number is 3 - print 2.71828\n",
        "* if the number is 4 - print 1.414\n",
        "* if the number is 5 - print the message (\"Thank you for using this program\")\n",
        "* if the number is anything else - print \"Invalid choice\"\n",
        "\n",
        "The program will print the message associated with the menu choice and will then display the menu again and ask the user to select a choice.  \n",
        "\n",
        "When the user enters 5, the program should stop repeating.\n",
        "\n",
        "Test input:    \n",
        "1  \n",
        "4  \n",
        "6  \n",
        "5  \n",
        "\n",
        "Expected output:    \n",
        "3.14159265359  \n",
        "1.414  \n",
        "Invalid choice  \n",
        "Thank you for using this program  "
      ]
    },
    {
      "cell_type": "code",
      "metadata": {
        "id": "EZdR70D-yP_Y",
        "outputId": "f55afe6b-deb8-4d87-b22b-fdc6adb63c1a",
        "colab": {
          "base_uri": "https://localhost:8080/"
        }
      },
      "source": [
        "from pickle import TRUE\n",
        "def show_special_numbers():\n",
        "\n",
        "    x = True\n",
        "\n",
        "    while x == True:\n",
        "      print(\"What value would you like to see?: \")\n",
        "      print(\"1.pi\")\n",
        "      print(\"2. Plank's constant\")\n",
        "      print(\"3.E\")\n",
        "      print(\"4.Square root of 2\")\n",
        "      print(\"5.Quit the program\")\n",
        "      option = int(input(\"pick option 1-5: \"))\n",
        "      if option == 1:\n",
        "        print(\"3.14159265359\")\n",
        "        x == True\n",
        "      if option == 2:\n",
        "        print(\"6.62607004 × 10-34\")\n",
        "        x == True\n",
        "      if option == 3:\n",
        "        print(\"2.71828\")\n",
        "        x == True\n",
        "      if option == 4:\n",
        "        print(\"1.414\")\n",
        "        x == True\n",
        "      if option == 5:\n",
        "        print(\"Thankyou for using this program\")\n",
        "        x = False\n",
        "      if option < 1 or option > 5:\n",
        "        print(\"Invalid choice\")\n",
        "        option = int(input(\"pick option 1-5: \"))\n",
        "\n",
        "show_special_numbers()"
      ],
      "execution_count": null,
      "outputs": [
        {
          "output_type": "stream",
          "name": "stdout",
          "text": [
            "What value would you like to see?: \n",
            "1.pi\n",
            "2. Plank's constant\n",
            "3.E\n",
            "4.Square root of 2\n",
            "5.Quit the program\n",
            "pick option 1-5: 1\n",
            "3.14159265359\n",
            "What value would you like to see?: \n",
            "1.pi\n",
            "2. Plank's constant\n",
            "3.E\n",
            "4.Square root of 2\n",
            "5.Quit the program\n",
            "pick option 1-5: 2\n",
            "6.62607004 × 10-34\n",
            "What value would you like to see?: \n",
            "1.pi\n",
            "2. Plank's constant\n",
            "3.E\n",
            "4.Square root of 2\n",
            "5.Quit the program\n",
            "pick option 1-5: 3\n",
            "2.71828\n",
            "What value would you like to see?: \n",
            "1.pi\n",
            "2. Plank's constant\n",
            "3.E\n",
            "4.Square root of 2\n",
            "5.Quit the program\n",
            "pick option 1-5: 5\n",
            "Thankyou for using this program\n"
          ]
        }
      ]
    },
    {
      "cell_type": "markdown",
      "metadata": {
        "id": "Ig_WrlmPWG4v"
      },
      "source": [
        "---\n",
        "### Exercise 10 - Guess the number  \n",
        "\n",
        "Write a function called **guess_number(number)** which will:  \n",
        "\n",
        "Ask the user to guess the number within 6 attempts.  \n",
        "\n",
        "The function will be given a random number (called `number`) and should use a while loop that will continue while the user has not guessed correctly and has had less than 6 attempts (don't forget to set the number of attempts to 0 before the loop and increment it every time a guess is made).  \n",
        "\n",
        "In the loop:  \n",
        "\n",
        "*  ask the user to enter a **guess**  \n",
        "*  if the `guess` is greater than the `number` print \"Too high\", if less than the number print \"Too low\" or if correct print \"You guessed it\"  \n",
        "*  count the `attempt`  \n",
        "\n",
        "After the loop if the maximum attempts has been reached, print \"Too many attempts\"\n",
        "\n",
        "\n"
      ]
    },
    {
      "cell_type": "code",
      "metadata": {
        "id": "7qagArrHWHGV",
        "outputId": "f59f5ed8-caa3-4429-fd4c-209a8addfd15",
        "colab": {
          "base_uri": "https://localhost:8080/"
        }
      },
      "source": [
        "from random import randint\n",
        "\n",
        "def guess_number(number):\n",
        "  # add your code below here, remembering to indent\n",
        "\n",
        "    guess_count = 0\n",
        "    guess_number = 6\n",
        "    valid = True\n",
        "\n",
        "    while valid == True and guess_count <= guess_number:\n",
        "      guess = int(input(\" please enter your guess as a number: \"))\n",
        "      guess_count += 1\n",
        "      if guess > number:\n",
        "        print(\"Too High\")\n",
        "      if guess < number:\n",
        "        print(\"Too Low\")\n",
        "      if guess == number:\n",
        "        print(\"You guessed it\")\n",
        "        print(guess_number, \"attempts\")\n",
        "        valid = False\n",
        "      if guess_count > guess_number:\n",
        "        print(\"Too many attempts\")\n",
        "        valid = False\n",
        "\n",
        "guess_number(randint(1,50))"
      ],
      "execution_count": null,
      "outputs": [
        {
          "output_type": "stream",
          "name": "stdout",
          "text": [
            " please enter your guess as a number: 30\n",
            "Too High\n",
            " please enter your guess as a number: 20\n",
            "Too High\n",
            " please enter your guess as a number: 23\n",
            "Too High\n",
            " please enter your guess as a number: 22\n",
            "Too High\n",
            " please enter your guess as a number: 21\n",
            "Too High\n",
            " please enter your guess as a number: 13\n",
            "You guessed it\n",
            "6 attempts\n"
          ]
        }
      ]
    }
  ]
}