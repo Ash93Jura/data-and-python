{
  "nbformat": 4,
  "nbformat_minor": 0,
  "metadata": {
    "colab": {
      "provenance": [],
      "include_colab_link": true
    },
    "kernelspec": {
      "name": "python3",
      "display_name": "Python 3"
    }
  },
  "cells": [
    {
      "cell_type": "markdown",
      "metadata": {
        "id": "view-in-github",
        "colab_type": "text"
      },
      "source": [
        "<a href=\"https://colab.research.google.com/github/Ash93Jura/data-and-python/blob/main/10_LoopsChallenges_WhileTrue.ipynb\" target=\"_parent\"><img src=\"https://colab.research.google.com/assets/colab-badge.svg\" alt=\"Open In Colab\"/></a>"
      ]
    },
    {
      "cell_type": "markdown",
      "metadata": {
        "id": "lGjlNDuSFdXx"
      },
      "source": [
        "# Loop Challenges\n",
        "\n",
        "---\n",
        "\n",
        "Each of these challenges will need a loop.  This may be a **while** loop or a **for** loop, you will need to decide which is needed."
      ]
    },
    {
      "cell_type": "markdown",
      "metadata": {
        "id": "nSx5LRcdLzx-"
      },
      "source": [
        "---\n",
        "## Challenge 1 - Sum of random numbers\n",
        "Write a function called **random_generator()** where python generates random numbers between 1 and 100 until the number 1 is generated.\n",
        "\n",
        "* use `randint(1, 100)` to generate random numbers\n",
        "* keep a running `total` - add numbers as they are generated\n",
        "* print `total` at the end\n",
        "* print the final generated number (should be 1) to check your function is working\n",
        "\n",
        "Example input (computer):\n",
        "\n",
        "10  \n",
        "78  \n",
        "6  \n",
        "42  \n",
        "56  \n",
        "81  \n",
        "15   \n",
        "1  \n",
        "\n",
        "Expected output:  \n",
        "\n",
        "289  \n",
        "1  "
      ]
    },
    {
      "cell_type": "code",
      "metadata": {
        "id": "FRRBydPTN3cv",
        "outputId": "d5e2160f-a1d6-41fe-f052-fc337a584e07",
        "colab": {
          "base_uri": "https://localhost:8080/"
        }
      },
      "source": [
        "def random_generator():\n",
        "\n",
        "    import random\n",
        "    r = 0\n",
        "    total = 0\n",
        "    r = random.randrange(1,100)\n",
        "\n",
        "    while True:\n",
        "      if r == 1:\n",
        "        break\n",
        "      print(r)\n",
        "      total += r\n",
        "      r = random.randrange(1,100)\n",
        "    print(\" total = \", total)\n",
        "    print(r)\n",
        "\n",
        "\n",
        "random_generator()"
      ],
      "execution_count": 57,
      "outputs": [
        {
          "output_type": "stream",
          "name": "stdout",
          "text": [
            "36\n",
            "45\n",
            "62\n",
            "13\n",
            "21\n",
            "62\n",
            "98\n",
            "23\n",
            "31\n",
            "13\n",
            "18\n",
            "12\n",
            "5\n",
            "34\n",
            "64\n",
            "65\n",
            "28\n",
            "65\n",
            "30\n",
            "59\n",
            "56\n",
            "51\n",
            "61\n",
            "7\n",
            "37\n",
            "97\n",
            "37\n",
            "80\n",
            "44\n",
            "33\n",
            "22\n",
            "50\n",
            "72\n",
            "96\n",
            "12\n",
            "85\n",
            "48\n",
            "33\n",
            "70\n",
            "62\n",
            "96\n",
            "94\n",
            "25\n",
            "56\n",
            "93\n",
            "7\n",
            "97\n",
            "90\n",
            "81\n",
            "90\n",
            "17\n",
            "20\n",
            "80\n",
            "61\n",
            "9\n",
            "91\n",
            "7\n",
            "71\n",
            "95\n",
            "81\n",
            "12\n",
            "77\n",
            "10\n",
            "3\n",
            "16\n",
            "32\n",
            "36\n",
            "41\n",
            "88\n",
            "55\n",
            "35\n",
            "24\n",
            "60\n",
            "62\n",
            "66\n",
            "54\n",
            "57\n",
            "32\n",
            "28\n",
            "94\n",
            "27\n",
            "53\n",
            "27\n",
            "90\n",
            "89\n",
            "65\n",
            "3\n",
            "50\n",
            "34\n",
            "58\n",
            "69\n",
            "96\n",
            "40\n",
            "52\n",
            "67\n",
            "89\n",
            "14\n",
            "53\n",
            " total =  4956\n",
            "1\n"
          ]
        }
      ]
    },
    {
      "cell_type": "markdown",
      "metadata": {
        "id": "aX8me4xxPMc0"
      },
      "source": [
        "---\n",
        "## Challenge 2 - Factorials\n",
        "\n",
        "Factorial of any number n is represented by n! and is equal to 1*2*3*....*(n-1)*n.\n",
        "\n",
        "E.g.   \n",
        "* 4! = 1 * 2 * 3 * 4 = 24  \n",
        "* 3! = 3 * 2 * 1 = 6\n",
        "* 2! = 2 * 1 = 2  \n",
        " Also,\n",
        "* 1! = 1\n",
        "* 0! = 1\n",
        "\n",
        "Write a function called **calculate_factorial()** which calculates the factorial of a user inputed number.\n",
        "\n",
        "* use a *while* loop to control repetition while the number being multiplied by is less than or equal to the number it is finding the factorial of, multiply each time round the loop  \n",
        "* print the answer at the end\n",
        "\n",
        "Test input:  \n",
        "\n",
        "6   \n",
        "10  \n",
        "1  \n",
        "0  \n",
        "\n",
        "Expected output:  \n",
        "\n",
        "720  \n",
        "3,628,800  \n",
        "1  \n",
        "1  \n",
        "\n",
        "### Extra challenge\n",
        "\n",
        "Can you write a function to calculate factorials but using a *for* loop instead?\n",
        "\n",
        "\n"
      ]
    },
    {
      "cell_type": "code",
      "metadata": {
        "id": "qcXqzf_lQDOv",
        "outputId": "6436e994-5d5b-43cc-e7c2-33d3233ccea7",
        "colab": {
          "base_uri": "https://localhost:8080/",
          "height": 754
        }
      },
      "source": [
        "from os import truncate\n",
        "from pickle import TRUE\n",
        "def  calculate_factorial():\n",
        "\n",
        "     while True:\n",
        "      n = int(input(\"input a positive integer: \"))\n",
        "      factorial = 1\n",
        "      for i in range (1, n+1):\n",
        "        if i > n:\n",
        "          break\n",
        "        if n < 1:\n",
        "          print(n+1)\n",
        "          break\n",
        "        factorial = factorial*i\n",
        "        print(factorial)\n",
        "\n",
        "\n",
        "# Have spent a really long time on this one and cant get it right. I'm really not great at the maths and don't quite understand the instruction 'while the number being multiplied by is less than or equal to the number it is finding the factorial of, multiply each time round the loop'\n",
        "# Please can you explain in an alternative way and explain where I've gone wrong/ where the breaks should be?\n",
        "calculate_factorial()"
      ],
      "execution_count": 87,
      "outputs": [
        {
          "name": "stdout",
          "output_type": "stream",
          "text": [
            "input a positive integer: 6\n",
            "1\n",
            "2\n",
            "6\n",
            "24\n",
            "120\n",
            "720\n",
            "input a positive integer: 10\n",
            "1\n",
            "2\n",
            "6\n",
            "24\n",
            "120\n",
            "720\n",
            "5040\n",
            "40320\n",
            "362880\n",
            "3628800\n",
            "input a positive integer: 1\n",
            "1\n",
            "input a positive integer: 0\n",
            "input a positive integer: 0\n",
            "input a positive integer: 0\n"
          ]
        },
        {
          "output_type": "error",
          "ename": "KeyboardInterrupt",
          "evalue": "Interrupted by user",
          "traceback": [
            "\u001b[0;31m---------------------------------------------------------------------------\u001b[0m",
            "\u001b[0;31mKeyboardInterrupt\u001b[0m                         Traceback (most recent call last)",
            "\u001b[0;32m<ipython-input-87-69cc686f4802>\u001b[0m in \u001b[0;36m<cell line: 17>\u001b[0;34m()\u001b[0m\n\u001b[1;32m     15\u001b[0m         \u001b[0mprint\u001b[0m\u001b[0;34m(\u001b[0m\u001b[0mfactorial\u001b[0m\u001b[0;34m)\u001b[0m\u001b[0;34m\u001b[0m\u001b[0;34m\u001b[0m\u001b[0m\n\u001b[1;32m     16\u001b[0m \u001b[0;34m\u001b[0m\u001b[0m\n\u001b[0;32m---> 17\u001b[0;31m \u001b[0mcalculate_factorial\u001b[0m\u001b[0;34m(\u001b[0m\u001b[0;34m)\u001b[0m\u001b[0;34m\u001b[0m\u001b[0;34m\u001b[0m\u001b[0m\n\u001b[0m",
            "\u001b[0;32m<ipython-input-87-69cc686f4802>\u001b[0m in \u001b[0;36mcalculate_factorial\u001b[0;34m()\u001b[0m\n\u001b[1;32m      4\u001b[0m \u001b[0;34m\u001b[0m\u001b[0m\n\u001b[1;32m      5\u001b[0m      \u001b[0;32mwhile\u001b[0m \u001b[0;32mTrue\u001b[0m\u001b[0;34m:\u001b[0m\u001b[0;34m\u001b[0m\u001b[0;34m\u001b[0m\u001b[0m\n\u001b[0;32m----> 6\u001b[0;31m       \u001b[0mn\u001b[0m \u001b[0;34m=\u001b[0m \u001b[0mint\u001b[0m\u001b[0;34m(\u001b[0m\u001b[0minput\u001b[0m\u001b[0;34m(\u001b[0m\u001b[0;34m\"input a positive integer: \"\u001b[0m\u001b[0;34m)\u001b[0m\u001b[0;34m)\u001b[0m\u001b[0;34m\u001b[0m\u001b[0;34m\u001b[0m\u001b[0m\n\u001b[0m\u001b[1;32m      7\u001b[0m       \u001b[0mfactorial\u001b[0m \u001b[0;34m=\u001b[0m \u001b[0;36m1\u001b[0m\u001b[0;34m\u001b[0m\u001b[0;34m\u001b[0m\u001b[0m\n\u001b[1;32m      8\u001b[0m       \u001b[0;32mfor\u001b[0m \u001b[0mi\u001b[0m \u001b[0;32min\u001b[0m \u001b[0mrange\u001b[0m \u001b[0;34m(\u001b[0m\u001b[0;36m1\u001b[0m\u001b[0;34m,\u001b[0m \u001b[0mn\u001b[0m\u001b[0;34m+\u001b[0m\u001b[0;36m1\u001b[0m\u001b[0;34m)\u001b[0m\u001b[0;34m:\u001b[0m\u001b[0;34m\u001b[0m\u001b[0;34m\u001b[0m\u001b[0m\n",
            "\u001b[0;32m/usr/local/lib/python3.10/dist-packages/ipykernel/kernelbase.py\u001b[0m in \u001b[0;36mraw_input\u001b[0;34m(self, prompt)\u001b[0m\n\u001b[1;32m    849\u001b[0m                 \u001b[0;34m\"raw_input was called, but this frontend does not support input requests.\"\u001b[0m\u001b[0;34m\u001b[0m\u001b[0;34m\u001b[0m\u001b[0m\n\u001b[1;32m    850\u001b[0m             )\n\u001b[0;32m--> 851\u001b[0;31m         return self._input_request(str(prompt),\n\u001b[0m\u001b[1;32m    852\u001b[0m             \u001b[0mself\u001b[0m\u001b[0;34m.\u001b[0m\u001b[0m_parent_ident\u001b[0m\u001b[0;34m,\u001b[0m\u001b[0;34m\u001b[0m\u001b[0;34m\u001b[0m\u001b[0m\n\u001b[1;32m    853\u001b[0m             \u001b[0mself\u001b[0m\u001b[0;34m.\u001b[0m\u001b[0m_parent_header\u001b[0m\u001b[0;34m,\u001b[0m\u001b[0;34m\u001b[0m\u001b[0;34m\u001b[0m\u001b[0m\n",
            "\u001b[0;32m/usr/local/lib/python3.10/dist-packages/ipykernel/kernelbase.py\u001b[0m in \u001b[0;36m_input_request\u001b[0;34m(self, prompt, ident, parent, password)\u001b[0m\n\u001b[1;32m    893\u001b[0m             \u001b[0;32mexcept\u001b[0m \u001b[0mKeyboardInterrupt\u001b[0m\u001b[0;34m:\u001b[0m\u001b[0;34m\u001b[0m\u001b[0;34m\u001b[0m\u001b[0m\n\u001b[1;32m    894\u001b[0m                 \u001b[0;31m# re-raise KeyboardInterrupt, to truncate traceback\u001b[0m\u001b[0;34m\u001b[0m\u001b[0;34m\u001b[0m\u001b[0m\n\u001b[0;32m--> 895\u001b[0;31m                 \u001b[0;32mraise\u001b[0m \u001b[0mKeyboardInterrupt\u001b[0m\u001b[0;34m(\u001b[0m\u001b[0;34m\"Interrupted by user\"\u001b[0m\u001b[0;34m)\u001b[0m \u001b[0;32mfrom\u001b[0m \u001b[0;32mNone\u001b[0m\u001b[0;34m\u001b[0m\u001b[0;34m\u001b[0m\u001b[0m\n\u001b[0m\u001b[1;32m    896\u001b[0m             \u001b[0;32mexcept\u001b[0m \u001b[0mException\u001b[0m \u001b[0;32mas\u001b[0m \u001b[0me\u001b[0m\u001b[0;34m:\u001b[0m\u001b[0;34m\u001b[0m\u001b[0;34m\u001b[0m\u001b[0m\n\u001b[1;32m    897\u001b[0m                 \u001b[0mself\u001b[0m\u001b[0;34m.\u001b[0m\u001b[0mlog\u001b[0m\u001b[0;34m.\u001b[0m\u001b[0mwarning\u001b[0m\u001b[0;34m(\u001b[0m\u001b[0;34m\"Invalid Message:\"\u001b[0m\u001b[0;34m,\u001b[0m \u001b[0mexc_info\u001b[0m\u001b[0;34m=\u001b[0m\u001b[0;32mTrue\u001b[0m\u001b[0;34m)\u001b[0m\u001b[0;34m\u001b[0m\u001b[0;34m\u001b[0m\u001b[0m\n",
            "\u001b[0;31mKeyboardInterrupt\u001b[0m: Interrupted by user"
          ]
        }
      ]
    },
    {
      "cell_type": "markdown",
      "metadata": {
        "id": "q1q-bTvERBHm"
      },
      "source": [
        "---\n",
        "## Challenge 3 - rolling a dice\n",
        "\n",
        "Write a function called **roll_dice()** that will use the `randint()` function from random to create random dice rolls for two dice.\n",
        "\n",
        "*  'roll' the two dice 6 times and count how many doubles were rolled in those 6 rolls.\n",
        "*  use a *for* loop\n",
        "\n",
        "*Hint: to throw a dice use the following:*\n",
        "\n",
        "`dice1 = randint(1,6)`\n",
        "\n",
        "Example input (computer):  \n",
        "\n",
        "4 1   \n",
        "5 5   \n",
        "6 3   \n",
        "2 2   \n",
        "3 4  \n",
        "1 1\n",
        "\n",
        "Expected output:\n",
        "\n",
        "3   "
      ]
    },
    {
      "cell_type": "code",
      "metadata": {
        "id": "tppPCMWHR5Vv",
        "outputId": "d0303355-daa1-4ec4-ab3a-a5dd3b6dfd5f",
        "colab": {
          "base_uri": "https://localhost:8080/"
        }
      },
      "source": [
        "from random import randint\n",
        "\n",
        "# Add your function below here\n",
        "def  roll_dice():\n",
        "     count = 0\n",
        "     throw_count = 0\n",
        "\n",
        "     while True:\n",
        "      dice1 = randint(1,6)\n",
        "      dice2 = randint(1,6)\n",
        "      print(dice1, dice2)\n",
        "      if dice1 == dice2:\n",
        "         count += 1\n",
        "      throw_count += 1\n",
        "      if throw_count == 6:\n",
        "        break\n",
        "\n",
        "     print(count)\n",
        "\n",
        "roll_dice()\n"
      ],
      "execution_count": 89,
      "outputs": [
        {
          "output_type": "stream",
          "name": "stdout",
          "text": [
            "2 4\n",
            "2 5\n",
            "5 5\n",
            "5 2\n",
            "4 3\n",
            "2 4\n",
            "1\n"
          ]
        }
      ]
    },
    {
      "cell_type": "markdown",
      "metadata": {
        "id": "Kn0hb-ORSETx"
      },
      "source": [
        "---\n",
        "## Challenge 4 - fizz buzz\n",
        "\n",
        "Write a function called **fizz_buzz()** using a *for* loop which:\n",
        "\n",
        "* iterates over the numbers 1 to 30   \n",
        "* if the **number** is a multiple of 3 - print \"fizz\" instead of the `number`  \n",
        "* if it is a multiple of 5 - print \"buzz\" instead of the `number`   \n",
        "* if it is a multiple of both 3 and 5 - print \"fizzbuzz\" instead of the `number`    \n",
        "\n",
        "Expected Output:   \n",
        "1  \n",
        "2  \n",
        "fizz  \n",
        "4  \n",
        "buzz  \n",
        "fizz  \n",
        "7  \n",
        "8  \n",
        "fizz  \n",
        "buzz  \n",
        "11  \n",
        "fizz  \n",
        "13  \n",
        "14  \n",
        "fizzbuzz  \n",
        "16  \n",
        "17  \n",
        "fizz  \n",
        "19  \n",
        "buzz  \n",
        "fizz  \n",
        "22  \n",
        "23  \n",
        "fizz  \n",
        "buzz  \n",
        "26  \n",
        "fizz  \n",
        "28  \n",
        "29  \n",
        "fizzbuzz  "
      ]
    },
    {
      "cell_type": "code",
      "metadata": {
        "id": "L3CBRgNdSZhy",
        "outputId": "efe97c3e-a69e-4d98-9099-577a38d62d3c",
        "colab": {
          "base_uri": "https://localhost:8080/"
        }
      },
      "source": [
        "def  fizz_buzz():\n",
        "     i = 0\n",
        "\n",
        "     while True:\n",
        "      i += 1\n",
        "      if i == 31:\n",
        "        break\n",
        "      if (i % 3 == 0) and (i % 5 == 0):\n",
        "        print(\"fizzbuzz\")\n",
        "      elif (i % 3 == 0) and (i % 5 != 0):\n",
        "        print(\"fizz\")\n",
        "      elif (i % 5 == 0) and (i % 3 != 0):\n",
        "        print(\"buzz\")\n",
        "      else:\n",
        "        print(i)\n",
        "\n",
        "fizz_buzz()"
      ],
      "execution_count": 92,
      "outputs": [
        {
          "output_type": "stream",
          "name": "stdout",
          "text": [
            "1\n",
            "2\n",
            "fizz\n",
            "4\n",
            "buzz\n",
            "fizz\n",
            "7\n",
            "8\n",
            "fizz\n",
            "buzz\n",
            "11\n",
            "fizz\n",
            "13\n",
            "14\n",
            "fizzbuzz\n",
            "16\n",
            "17\n",
            "fizz\n",
            "19\n",
            "buzz\n",
            "fizz\n",
            "22\n",
            "23\n",
            "fizz\n",
            "buzz\n",
            "26\n",
            "fizz\n",
            "28\n",
            "29\n",
            "fizzbuzz\n"
          ]
        }
      ]
    },
    {
      "cell_type": "markdown",
      "metadata": {
        "id": "xFo3wYgkTBLs"
      },
      "source": [
        "---\n",
        "## Challenge 5 - perfect numbers\n",
        "\n",
        "Write a function called **check_perfect()** which checks whether a given number is perfect or not.\n",
        "\n",
        "* *a perfect number is a positive integer that is equal to the sum of its positive factors (factors > 0) excluding the number itself.*\n",
        "* *it is also half the sum of all positive factors including itself*\n",
        "\n",
        "\n",
        "*For example:*  \n",
        "*6 is a perfect number. It's only factors are 1, 2 & 3.   \n",
        "1 + 2 + 3 = 6  \n",
        "(1 + 2 + 3 + 6)/2 =6*  \n",
        "\n",
        "**Your function will:**\n",
        "\n",
        "* ask the user to input a **number**\n",
        "* find all of the given numbers that are positive factors, adding them together as it goes through the loop\n",
        "* check whether `number` is perfect or not (both checks)  \n",
        "* print either `number` is perfect or `number` is not perfect\n",
        "\n",
        "Test input:  \n",
        "6   \n",
        "23   \n",
        "28\n",
        "\n",
        "Expected output:  \n",
        "6 is perfect   \n",
        "23 is not perfect  \n",
        "28 is perfect    \n",
        "\n",
        "\n",
        "\n"
      ]
    },
    {
      "cell_type": "code",
      "metadata": {
        "id": "RsYuicPCWHqo",
        "outputId": "5b42fff2-e52b-4596-e89b-c2a5330376dd",
        "colab": {
          "base_uri": "https://localhost:8080/"
        }
      },
      "source": [
        "def  check_perfect():\n",
        "\n",
        "     n = int(input(\"input a positive integer: \"))\n",
        "     sum = 0\n",
        "\n",
        "     for i in range(1, n):\n",
        "        if (n%i == 0):\n",
        "            sum=sum+i\n",
        "     while True:\n",
        "       if (sum != n):\n",
        "         print(n, \"is not a perfect number\")\n",
        "         break\n",
        "       if ((sum+n)/2 != n):\n",
        "         print(n, \"is not a perfect number\")\n",
        "         break\n",
        "       else:\n",
        "         print(n, \"is a perfect number\")\n",
        "         break\n",
        "\n",
        "check_perfect()"
      ],
      "execution_count": 109,
      "outputs": [
        {
          "output_type": "stream",
          "name": "stdout",
          "text": [
            "input a positive integer: 28\n",
            "28 is a perfect number\n"
          ]
        }
      ]
    },
    {
      "cell_type": "markdown",
      "metadata": {
        "id": "i8sxKhcEH11h"
      },
      "source": [
        "## Challenge 6 - Passcode   \n",
        "\n",
        "Write a function called **guess_letter(passcode, missing_letter)** which will allow a user to play a game with the computer.  \n",
        "\n",
        "* the computer needs to 'generate' a random passcode with a missing letter (this is done for you)   \n",
        "* the user has up to three attempts to guess the missing letter in a passcode.  \n",
        "\n",
        "### the passcode generator  \n",
        "\n",
        "This code is given to you and will choose 4 letters in the range A-Z (capitals only) and randomly selecting one to be replaced by a *  \n",
        "\n",
        "**Your function should follow these rules:**\n",
        "\n",
        "*  ask the user to enter the missing **letter**  \n",
        "*  count the **attempt**  \n",
        "* if the letter is correct, print the message \"Correct passcode\" and then stop    \n",
        "* if the letter is incorrect, print the message, \"You have `attempts` attempts left\"  \n",
        "* if three wrong attempts have been made and the user hasn't entered the correct letter, print \"No more attempts\"  \n",
        "\n",
        "Example input (computer):  \n",
        "\n",
        "NR*R , B\n",
        "\n",
        "Example input (user):  \n",
        "A    \n",
        "B  \n",
        "C  \n",
        "\n",
        "Expected output:  \n",
        "No more attempts   \n",
        "\n",
        "Example input (computer):  \n",
        "A*RD , T  \n",
        "\n",
        "Example input (user):  \n",
        "T    \n",
        "\n",
        "Expected output:  \n",
        "Correct passcode  \n",
        "\n",
        "Example input (computer):  \n",
        "*FES , F  \n",
        "\n",
        "Example input (user):  \n",
        "T\n",
        "F    \n",
        "\n",
        "Expected output:  \n",
        "You have 2 attempts left\n",
        "Correct passcode"
      ]
    },
    {
      "cell_type": "code",
      "metadata": {
        "id": "NJp2CgvtKP2Q",
        "outputId": "89799127-3c78-4148-a655-c84d4bdd00b5",
        "colab": {
          "base_uri": "https://localhost:8080/"
        }
      },
      "source": [
        "### importing package random\n",
        "from random import choice, randint\n",
        "\n",
        "def guess_passcode(passcode, missing_letter):\n",
        "# add your code below here:\n",
        "  count = 1\n",
        "  guess = input(\"please guess the missing letter in the passcode: \")\n",
        "\n",
        "  while True:\n",
        "    if guess != missing_letter:\n",
        "      count += 1\n",
        "      if count > 3:\n",
        "        break\n",
        "      print(\"You have\", (4-count), \"attempts left\")\n",
        "      guess = input(\"please guess the missing letter in the passcode: \")\n",
        "    elif guess == missing_letter:\n",
        "      print(\"Correct passcode\")\n",
        "\n",
        "\n",
        "  print(\"No more attempts\")\n",
        "\n",
        "\n",
        "\n",
        "### code to generate a passcode with a missing letter, then run the function guess_passcode\n",
        "### DO NOT change anything below here\n",
        "passcode = \"\"\n",
        "letters = [chr(a) for a in range(ord('A'),ord('Z')+1)] # generate the letter between A and Z\n",
        "missing_position = randint(0,4)\n",
        "missing_letter = \"*\"\n",
        "for i in range(4):\n",
        "  letter = choice(letters)\n",
        "  if i == missing_position:\n",
        "    missing_letter = letter\n",
        "    passcode += \"*\"\n",
        "  else:\n",
        "    passcode += letter\n",
        "\n",
        "guess_passcode(passcode, missing_letter)"
      ],
      "execution_count": 113,
      "outputs": [
        {
          "output_type": "stream",
          "name": "stdout",
          "text": [
            "please guess the missing letter in the passcode: a\n",
            "You have 2 attempts left\n",
            "please guess the missing letter in the passcode: b\n",
            "You have 1 attempts left\n",
            "please guess the missing letter in the passcode: c\n",
            "No more attempts\n"
          ]
        }
      ]
    }
  ]
}