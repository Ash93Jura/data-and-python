{
  "nbformat": 4,
  "nbformat_minor": 0,
  "metadata": {
    "colab": {
      "provenance": [],
      "include_colab_link": true
    },
    "kernelspec": {
      "name": "python3",
      "display_name": "Python 3"
    },
    "language_info": {
      "name": "python"
    }
  },
  "cells": [
    {
      "cell_type": "markdown",
      "metadata": {
        "id": "view-in-github",
        "colab_type": "text"
      },
      "source": [
        "<a href=\"https://colab.research.google.com/github/Ash93Jura/data-and-python/blob/main/12_Functions_Datetime.ipynb\" target=\"_parent\"><img src=\"https://colab.research.google.com/assets/colab-badge.svg\" alt=\"Open In Colab\"/></a>"
      ]
    },
    {
      "cell_type": "markdown",
      "metadata": {
        "id": "7iQyKP-SQiw1"
      },
      "source": [
        "# User-defined functions using datetime library\n",
        "\n",
        "---\n"
      ]
    },
    {
      "cell_type": "markdown",
      "metadata": {
        "id": "Vi93h5I4QnKs"
      },
      "source": [
        "When working with dates and times, fairly common in data sets, we need to be able to extract certain bits of information.  \n",
        "\n",
        "In Python, as with other languages, dates and times are stored in a data structure that combines the two together and stores the information as a number of seconds since a start point (often 1st January 1900).  This is obviously a large number but every bit of information about a date can be extracted from it and used to give a wide range of information.  \n",
        "\n",
        "Have a go at the exercises below to use a selection of datetime functions and return a new bit of data from each, to be printed by the caller.\n",
        "\n",
        "Before you can use datetime functions you will need to import them. Import the datetime functions like this:\n",
        "\n",
        "`from datetime import datetime`  \n",
        "\n",
        "\n",
        "For more information about datetime functions visit [w3Schools-Python datetime](https://www.w3schools.com/python/python_datetime.asp) and [Python docs](https://docs.python.org/3/library/datetime.html)"
      ]
    },
    {
      "cell_type": "markdown",
      "metadata": {
        "id": "MIDLi7CNR034"
      },
      "source": [
        "---\n",
        "### Exercise 1 - print current date and time\n",
        "\n",
        "Write a function that will return the date and time now.  The caller will print it.  \n",
        "\n",
        "*Hint:  the format has been added for you, the other exercises will follow a similar format.   Always remember to import datetime from datetime as shown below*"
      ]
    },
    {
      "cell_type": "code",
      "metadata": {
        "id": "gS6GJdXbQfHp",
        "colab": {
          "base_uri": "https://localhost:8080/"
        },
        "outputId": "dd37ea58-1e2b-4bf8-dd66-842d4afe2502"
      },
      "source": [
        "from datetime import datetime, timezone\n",
        "# add your function, called get_datetime_now() below here\n",
        "def get_datetime_now():\n",
        "\n",
        "    now_date_time = datetime.today()\n",
        "# 'now_date_time = get_datetime_now()': why is this bit of code needed? i am confused by it\n",
        "# the name of the second variable is the same as the whole function? why?\n",
        "# why did the first variable need to be converted to the second to be printed?\n",
        "    print(now_date_time)\n",
        "\n",
        "get_datetime_now()"
      ],
      "execution_count": null,
      "outputs": [
        {
          "output_type": "stream",
          "name": "stdout",
          "text": [
            "2024-02-19 23:27:13.299088\n"
          ]
        }
      ]
    },
    {
      "cell_type": "markdown",
      "metadata": {
        "id": "Yy24sL0bUtpF"
      },
      "source": [
        "---\n",
        "Exercise 2 - print the current year\n",
        "\n",
        "Write a function that will return the current year.  The caller will print the year."
      ]
    },
    {
      "cell_type": "code",
      "metadata": {
        "id": "YqlQqPIqUtyr",
        "colab": {
          "base_uri": "https://localhost:8080/"
        },
        "outputId": "10be02eb-c239-416f-b4be-f4d6d03fe463"
      },
      "source": [
        "import datetime\n",
        "\n",
        "def get_currentyear():\n",
        "\n",
        "    today = datetime.date.today()\n",
        "    current_year = today.year\n",
        "    print(current_year)\n",
        "\n",
        "get_currentyear()"
      ],
      "execution_count": null,
      "outputs": [
        {
          "output_type": "stream",
          "name": "stdout",
          "text": [
            "2024\n"
          ]
        }
      ]
    },
    {
      "cell_type": "markdown",
      "metadata": {
        "id": "FzSVCaJKV1O1"
      },
      "source": [
        "---\n",
        "### Exercise 3 - print the current day of the week\n",
        "\n",
        "Write a function that will return the current day of the week.  The caller will print it."
      ]
    },
    {
      "cell_type": "code",
      "metadata": {
        "id": "OP4ZIXBWV1Yj",
        "colab": {
          "base_uri": "https://localhost:8080/"
        },
        "outputId": "75e98679-344a-472e-8b71-14f5b160bf69"
      },
      "source": [
        "import datetime\n",
        "\n",
        "def get_current_day():\n",
        "\n",
        "    now = datetime.date.today()\n",
        "    current_day = (now.strftime('%A'))\n",
        "    print(current_day)\n",
        "\n",
        "get_current_day()"
      ],
      "execution_count": null,
      "outputs": [
        {
          "output_type": "stream",
          "name": "stdout",
          "text": [
            "Monday\n"
          ]
        }
      ]
    },
    {
      "cell_type": "markdown",
      "metadata": {
        "id": "a8euCtdmWIDE"
      },
      "source": [
        "---\n",
        "### Exercise 4 - create a new date\n",
        "\n",
        "Write a function that will take 3 parameters, day, month, year (3 numbers that make a valid date) and will create, and return a new date.  The caller will print the date."
      ]
    },
    {
      "cell_type": "code",
      "metadata": {
        "id": "FbOFnTwnWILN",
        "colab": {
          "base_uri": "https://localhost:8080/"
        },
        "outputId": "d6967970-0478-4981-b246-bc8b11c55245"
      },
      "source": [
        "import datetime\n",
        "def make_new_date(day, month, year):\n",
        "\n",
        "    x= datetime.date(year, month, day)\n",
        "    print(x)\n",
        " #i dont really understand the question - am i meant to make a date of 3 numbers and then that trigger the generation of another date? its not clear\n",
        "make_new_date(25,4,2002)"
      ],
      "execution_count": null,
      "outputs": [
        {
          "output_type": "stream",
          "name": "stdout",
          "text": [
            "2002-04-25\n"
          ]
        }
      ]
    },
    {
      "cell_type": "markdown",
      "metadata": {
        "id": "f5SKVuE0WfcE"
      },
      "source": [
        "---\n",
        "### Exercise 5 - create a valid date\n",
        "\n",
        "Write a function that will take 3 parameters, day, month, year (3 numbers) and will:  \n",
        "*   check that the month is between 1 and 12  \n",
        "*   check that the day is valid for the month (e.g. if the month is 2, then the day must be between 1 and 28 (don't worry about leap years for the moment)  \n",
        "*   if the date is not valid, print an error message and return None (which the caller will print)  \n",
        "*   if the date is valid, store it in a new variable, return the variable and the caller will print it."
      ]
    },
    {
      "cell_type": "code",
      "metadata": {
        "id": "gclt-f9-XfdG",
        "colab": {
          "base_uri": "https://localhost:8080/"
        },
        "outputId": "09de9d33-5cab-4826-ab08-32c35a1457e9"
      },
      "source": [
        "import datetime\n",
        "\n",
        "def create_valid_date(day,month,year):\n",
        "\n",
        "    datetime.datetime(day=day,month=month,year=year)\n",
        "    # i got suggested the above when looking for a way to validate int inputs to day, month, year. is this necessary?\n",
        "\n",
        "    day_count_for_month = [0, 31, 28, 31, 30, 31, 30, 31, 31, 30, 31, 30, 31]\n",
        "    x = datetime.date(day, month, day)\n",
        "\n",
        "    if day < day_count_for_month[month] or day > day_count_for_month[month]:\n",
        "      print(\"invalid month input\")\n",
        "      return None\n",
        "    else:\n",
        "      valid_date = x\n",
        "\n",
        "    return valid_date\n",
        "\n",
        "\n",
        "create_valid_date(28,12,1993)\n",
        " #ive tried manually putting in a bunch of if rules to try to get the day and month inputs right but i cant figure this out. how to do you import the right functiond from datetime for thid? i dont feel like the lesson material givn gives the skilld forbthis"
      ],
      "execution_count": 2,
      "outputs": [
        {
          "output_type": "stream",
          "name": "stdout",
          "text": [
            "invalid month input\n"
          ]
        }
      ]
    },
    {
      "cell_type": "markdown",
      "metadata": {
        "id": "js7fy2HWXfm2"
      },
      "source": [
        "---\n",
        "### Exercise 6 - is it a leap year?\n",
        "\n",
        "Write a function that will take a date as a parameter (you will need to create the date variable before calling the function) and will determine if it is a leap year, returning True or False.\n",
        "\n",
        "*Hint:  a leap year is a year that is divisible by 4 but the centuries (1900, 2000, etc are only leap years if they are divisible by 400)*"
      ]
    },
    {
      "cell_type": "code",
      "metadata": {
        "id": "KY1jtf3lX_ps",
        "outputId": "b0773ae9-e2a7-4dfd-b293-f00204a19d5f",
        "colab": {
          "base_uri": "https://localhost:8080/"
        }
      },
      "source": [
        "from datetime import datetime\n",
        "def is_leap_year():\n",
        "  # why is date_to_check in the above line of given code when its also given below? i dont understand the given code so i got rid of it to start again\n",
        "  # add your code below here\n",
        "    check_date = datetime(2023, 3, 1)\n",
        "    year = check_date.year\n",
        "\n",
        "    if (year % 4 == 0) and (year % 100 != 0):\n",
        "      leap = True\n",
        "      print(check_date.strftime(\"%Y\"), \"is a leap year\")\n",
        "    elif (year % 100 == 0) and (year % 400 != 0):\n",
        "      leap = False\n",
        "      print(check_date.strftime(\"%Y\"), \"is not a leap year\")\n",
        "    elif (year % 400 == 0):\n",
        "      leap = True\n",
        "      print(check_date.strftime(\"%Y)\"), \"is a leap year\")\n",
        "    else:\n",
        "      leap = False\n",
        "      print(check_date.strftime(\"%Y\"), \"is not a leap year\")\n",
        "\n",
        "    # if year%4==0 and (year%100 != 0 or year%400==0):\n",
        "        # day_count_for_month[2] = 29\n",
        "        # is_leap_year = check_date\n",
        "    # else:\n",
        "      # check_date != is_leap_year\n",
        "\n",
        "is_leap_year()"
      ],
      "execution_count": 13,
      "outputs": [
        {
          "output_type": "stream",
          "name": "stdout",
          "text": [
            "2023 is not a leap year\n"
          ]
        }
      ]
    },
    {
      "cell_type": "markdown",
      "metadata": {
        "id": "9BuRDi08YAO0"
      },
      "source": [
        "---\n",
        "### Exercise 7 - display parts of date/time\n",
        "\n",
        "Write a function that will take a date and print from it the following:  \n",
        "*  given date and time  \n",
        "*  year (in full)\n",
        "*  month (as a number)\n",
        "*  month name\n",
        "*  week number of the year  \n",
        "*  weekday of the week (as a number)  \n",
        "*  day of year  \n",
        "*  day of the month  \n",
        "*  day of week (as a name)  \n",
        "\n",
        "*Hint:  see w3Schools for [strftime reference](https://www.w3schools.com/python/python_datetime.asp)*\n",
        "\n"
      ]
    },
    {
      "cell_type": "code",
      "metadata": {
        "id": "zl-37Ez9ahym",
        "outputId": "38aa5195-90db-4162-effe-ec4947268280",
        "colab": {
          "base_uri": "https://localhost:8080/"
        }
      },
      "source": [
        "import datetime\n",
        "\n",
        "def seperate_date():\n",
        "\n",
        "    x = datetime.datetime. now()\n",
        "    print(x)\n",
        "    print(x.year)\n",
        "    print(x.month)\n",
        "    print(x.strftime(\"%B\"))\n",
        "    print(x.strftime(\"%W\"))\n",
        "    print(x.strftime(\"%w\"))\n",
        "    print(x.strftime(\"%j\"))\n",
        "    print(x.strftime(\"%d\"))\n",
        "    print(x.strftime(\"%A\"))\n",
        "\n",
        "seperate_date()"
      ],
      "execution_count": 15,
      "outputs": [
        {
          "output_type": "stream",
          "name": "stdout",
          "text": [
            "2024-02-21 13:54:39.444259\n",
            "2024\n",
            "2\n",
            "February\n",
            "08\n",
            "3\n",
            "052\n",
            "21\n",
            "Wednesday\n"
          ]
        }
      ]
    },
    {
      "cell_type": "markdown",
      "metadata": {
        "id": "_rpTIoSDaiBj"
      },
      "source": [
        "---\n",
        "### Exercise 8 - next 6 days\n",
        "\n",
        "Write a function that will take a date and generate the dates of the following 6 days.  It should print each of the 6 days in the form:  \n",
        "\n",
        "DAY OF THE WEEK, MONTH NAME, FULL YEAR\n",
        "\n",
        "Hint:  to generate the days, use the function datetime.timedelta(), there is a good example of its use [here](https://www.geeksforgeeks.org/python-datetime-timedelta-function/)  "
      ]
    },
    {
      "cell_type": "code",
      "metadata": {
        "id": "1d-oXqLLb0vX",
        "outputId": "54d7df2b-8f2b-4bda-fdc9-7aac32dc8e6a",
        "colab": {
          "base_uri": "https://localhost:8080/",
          "height": 109
        }
      },
      "source": [
        "from datetime import datetime, timedelta\n",
        "\n",
        "def get_futuredays():\n",
        "\n",
        "    time_for_now = datetime.now()\n",
        "\n",
        "    print(\"initial_date\", str(time_for_now))\n",
        "\n",
        "    future_date_1 = time_for_now + \\\n",
        "                    timedelta(days = 1)\n",
        "\n",
        "    future_date_2 = time_for_now + \\\n",
        "                    timedelta(days = 2)\n",
        "\n",
        "    print('future_date_1:', str(future_date_1))\n",
        "    print('future_date_2:', str(future_date_2))\n",
        "\n",
        "get_futuredays()"
      ],
      "execution_count": 18,
      "outputs": [
        {
          "output_type": "error",
          "ename": "SyntaxError",
          "evalue": "unexpected character after line continuation character (<ipython-input-18-aa137680a20f>, line 9)",
          "traceback": [
            "\u001b[0;36m  File \u001b[0;32m\"<ipython-input-18-aa137680a20f>\"\u001b[0;36m, line \u001b[0;32m9\u001b[0m\n\u001b[0;31m    future_date_1 = time_for_now + \\\u001b[0m\n\u001b[0m                                    ^\u001b[0m\n\u001b[0;31mSyntaxError\u001b[0m\u001b[0;31m:\u001b[0m unexpected character after line continuation character\n"
          ]
        }
      ]
    },
    {
      "cell_type": "markdown",
      "metadata": {
        "id": "22Rhwx2Sb1Ey"
      },
      "source": [
        "---\n",
        "### Optional extra practice\n",
        "\n",
        "There are some similar and some more challenging exercises [here](https://www.w3resource.com/python-exercises/date-time-exercise/) if you would like to practice more. The site has its own editor."
      ]
    }
  ]
}